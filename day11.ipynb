{
 "cells": [
  {
   "cell_type": "code",
   "execution_count": 3,
   "id": "095a5e8d-6a39-4bfd-89f0-248a078639e2",
   "metadata": {},
   "outputs": [],
   "source": [
    "import pandas as pd\n",
    "import numpy as np\n",
    "import seaborn as sns"
   ]
  },
  {
   "cell_type": "code",
   "execution_count": 5,
   "id": "38c693ce-0caa-46fa-9cb7-b9f3ee1a2c70",
   "metadata": {},
   "outputs": [
    {
     "data": {
      "text/plain": [
       "[4, 2.56789, 9, 87, 9999, 40, 'Hyderabad']"
      ]
     },
     "execution_count": 5,
     "metadata": {},
     "output_type": "execute_result"
    }
   ],
   "source": [
    "k=[4,2.56789,9,87,9999,40,'Hyderabad']\n",
    "k"
   ]
  },
  {
   "cell_type": "code",
   "execution_count": 10,
   "id": "f3611ccf-aba2-4d69-96b9-981396c3dd78",
   "metadata": {},
   "outputs": [
    {
     "data": {
      "text/plain": [
       "0            4\n",
       "1      2.56789\n",
       "2            9\n",
       "3           87\n",
       "4         9999\n",
       "5           40\n",
       "6    Hyderabad\n",
       "dtype: object"
      ]
     },
     "execution_count": 10,
     "metadata": {},
     "output_type": "execute_result"
    }
   ],
   "source": [
    "pd.Series(k)"
   ]
  },
  {
   "cell_type": "code",
   "execution_count": 12,
   "id": "036ff296-ac51-4649-a291-de84bf4377f1",
   "metadata": {},
   "outputs": [
    {
     "data": {
      "text/plain": [
       "[4, 2.56789, 9, 87, 9999, 40]"
      ]
     },
     "execution_count": 12,
     "metadata": {},
     "output_type": "execute_result"
    }
   ],
   "source": [
    "k=[4,2.56789,9,87,9999,40]\n",
    "k"
   ]
  },
  {
   "cell_type": "code",
   "execution_count": 14,
   "id": "548e1aa6-527e-48dc-b4a1-be6fce4e44fb",
   "metadata": {},
   "outputs": [
    {
     "data": {
      "text/plain": [
       "0       4.00000\n",
       "1       2.56789\n",
       "2       9.00000\n",
       "3      87.00000\n",
       "4    9999.00000\n",
       "5      40.00000\n",
       "dtype: float64"
      ]
     },
     "execution_count": 14,
     "metadata": {},
     "output_type": "execute_result"
    }
   ],
   "source": [
    "pd.Series(k)"
   ]
  },
  {
   "cell_type": "code",
   "execution_count": 34,
   "id": "2115df3c-8a26-4a8c-9f5a-046f3d0d037e",
   "metadata": {},
   "outputs": [
    {
     "data": {
      "text/plain": [
       "array([33, 22, 43, 41, 32, 33, 23, 39, 41, 31, 44, 22, 46, 43, 38])"
      ]
     },
     "execution_count": 34,
     "metadata": {},
     "output_type": "execute_result"
    }
   ],
   "source": [
    "a=np.random.randint(20,50,15)\n",
    "a"
   ]
  },
  {
   "cell_type": "code",
   "execution_count": 36,
   "id": "5ea99b36-17dd-4796-9230-d64580727425",
   "metadata": {},
   "outputs": [
    {
     "data": {
      "text/plain": [
       "1"
      ]
     },
     "execution_count": 36,
     "metadata": {},
     "output_type": "execute_result"
    }
   ],
   "source": [
    "a.ndim"
   ]
  },
  {
   "cell_type": "code",
   "execution_count": 38,
   "id": "31673e6f-873e-4fee-821f-ce43a6d36eb5",
   "metadata": {},
   "outputs": [
    {
     "data": {
      "text/plain": [
       "0     33\n",
       "1     22\n",
       "2     43\n",
       "3     41\n",
       "4     32\n",
       "5     33\n",
       "6     23\n",
       "7     39\n",
       "8     41\n",
       "9     31\n",
       "10    44\n",
       "11    22\n",
       "12    46\n",
       "13    43\n",
       "14    38\n",
       "dtype: int32"
      ]
     },
     "execution_count": 38,
     "metadata": {},
     "output_type": "execute_result"
    }
   ],
   "source": [
    "pd.Series(a)"
   ]
  },
  {
   "cell_type": "code",
   "execution_count": 40,
   "id": "a099c947-8394-4bb6-9318-a4bf2659e760",
   "metadata": {},
   "outputs": [
    {
     "data": {
      "text/plain": [
       "0     33\n",
       "1     22\n",
       "2     43\n",
       "3     41\n",
       "4     32\n",
       "5     33\n",
       "6     23\n",
       "7     39\n",
       "8     41\n",
       "9     31\n",
       "10    44\n",
       "11    22\n",
       "12    46\n",
       "13    43\n",
       "14    38\n",
       "dtype: int32"
      ]
     },
     "execution_count": 40,
     "metadata": {},
     "output_type": "execute_result"
    }
   ],
   "source": [
    "s=pd.Series(a)\n",
    "s"
   ]
  },
  {
   "cell_type": "code",
   "execution_count": 42,
   "id": "3066fcb5-c6c5-41ed-96f4-13bb2049955d",
   "metadata": {},
   "outputs": [
    {
     "data": {
      "text/plain": [
       "33"
      ]
     },
     "execution_count": 42,
     "metadata": {},
     "output_type": "execute_result"
    }
   ],
   "source": [
    "s[0]"
   ]
  },
  {
   "cell_type": "code",
   "execution_count": 44,
   "id": "c236e6f5-2cdd-4520-ae83-3625907d6bc9",
   "metadata": {},
   "outputs": [
    {
     "data": {
      "text/plain": [
       "4    32\n",
       "5    33\n",
       "6    23\n",
       "7    39\n",
       "8    41\n",
       "9    31\n",
       "dtype: int32"
      ]
     },
     "execution_count": 44,
     "metadata": {},
     "output_type": "execute_result"
    }
   ],
   "source": [
    "s[4:10]"
   ]
  },
  {
   "cell_type": "code",
   "execution_count": 50,
   "id": "88a2bbf8-a910-428d-90ff-176beea34cf0",
   "metadata": {},
   "outputs": [
    {
     "data": {
      "text/plain": [
       "array([[132, 190, 104, 174, 158],\n",
       "       [109, 139, 161, 161, 112],\n",
       "       [145, 167, 122, 119, 121],\n",
       "       [128, 128, 169, 152, 168],\n",
       "       [164, 165, 163, 196, 140],\n",
       "       [167, 141, 108, 153, 161]])"
      ]
     },
     "execution_count": 50,
     "metadata": {},
     "output_type": "execute_result"
    }
   ],
   "source": [
    "b=np.random.randint(100,200,(6,5))\n",
    "b"
   ]
  },
  {
   "cell_type": "code",
   "execution_count": 54,
   "id": "9d00413b-db4c-41c5-ae3f-9461edfc86d0",
   "metadata": {},
   "outputs": [
    {
     "data": {
      "text/plain": [
       "2"
      ]
     },
     "execution_count": 54,
     "metadata": {},
     "output_type": "execute_result"
    }
   ],
   "source": [
    "b.ndim"
   ]
  },
  {
   "cell_type": "code",
   "execution_count": 57,
   "id": "149532f1-0308-4e2f-ae9b-3892457f6c7f",
   "metadata": {},
   "outputs": [
    {
     "data": {
      "text/plain": [
       "(6, 5)"
      ]
     },
     "execution_count": 57,
     "metadata": {},
     "output_type": "execute_result"
    }
   ],
   "source": [
    "b.shape"
   ]
  },
  {
   "cell_type": "code",
   "execution_count": 59,
   "id": "a6a717ad-2a36-4694-a63e-21fb1adf97f0",
   "metadata": {},
   "outputs": [
    {
     "data": {
      "text/plain": [
       "array([[132, 190, 104, 174, 158],\n",
       "       [109, 139, 161, 161, 112],\n",
       "       [145, 167, 122, 119, 121],\n",
       "       [128, 128, 169, 152, 168],\n",
       "       [164, 165, 163, 196, 140],\n",
       "       [167, 141, 108, 153, 161]])"
      ]
     },
     "execution_count": 59,
     "metadata": {},
     "output_type": "execute_result"
    }
   ],
   "source": [
    "b"
   ]
  },
  {
   "cell_type": "code",
   "execution_count": 63,
   "id": "0f6be082-dd13-4df6-a6d9-d70c71aa605b",
   "metadata": {},
   "outputs": [
    {
     "data": {
      "text/html": [
       "<div>\n",
       "<style scoped>\n",
       "    .dataframe tbody tr th:only-of-type {\n",
       "        vertical-align: middle;\n",
       "    }\n",
       "\n",
       "    .dataframe tbody tr th {\n",
       "        vertical-align: top;\n",
       "    }\n",
       "\n",
       "    .dataframe thead th {\n",
       "        text-align: right;\n",
       "    }\n",
       "</style>\n",
       "<table border=\"1\" class=\"dataframe\">\n",
       "  <thead>\n",
       "    <tr style=\"text-align: right;\">\n",
       "      <th></th>\n",
       "      <th>0</th>\n",
       "      <th>1</th>\n",
       "      <th>2</th>\n",
       "      <th>3</th>\n",
       "      <th>4</th>\n",
       "    </tr>\n",
       "  </thead>\n",
       "  <tbody>\n",
       "    <tr>\n",
       "      <th>0</th>\n",
       "      <td>132</td>\n",
       "      <td>190</td>\n",
       "      <td>104</td>\n",
       "      <td>174</td>\n",
       "      <td>158</td>\n",
       "    </tr>\n",
       "    <tr>\n",
       "      <th>1</th>\n",
       "      <td>109</td>\n",
       "      <td>139</td>\n",
       "      <td>161</td>\n",
       "      <td>161</td>\n",
       "      <td>112</td>\n",
       "    </tr>\n",
       "    <tr>\n",
       "      <th>2</th>\n",
       "      <td>145</td>\n",
       "      <td>167</td>\n",
       "      <td>122</td>\n",
       "      <td>119</td>\n",
       "      <td>121</td>\n",
       "    </tr>\n",
       "    <tr>\n",
       "      <th>3</th>\n",
       "      <td>128</td>\n",
       "      <td>128</td>\n",
       "      <td>169</td>\n",
       "      <td>152</td>\n",
       "      <td>168</td>\n",
       "    </tr>\n",
       "    <tr>\n",
       "      <th>4</th>\n",
       "      <td>164</td>\n",
       "      <td>165</td>\n",
       "      <td>163</td>\n",
       "      <td>196</td>\n",
       "      <td>140</td>\n",
       "    </tr>\n",
       "    <tr>\n",
       "      <th>5</th>\n",
       "      <td>167</td>\n",
       "      <td>141</td>\n",
       "      <td>108</td>\n",
       "      <td>153</td>\n",
       "      <td>161</td>\n",
       "    </tr>\n",
       "  </tbody>\n",
       "</table>\n",
       "</div>"
      ],
      "text/plain": [
       "     0    1    2    3    4\n",
       "0  132  190  104  174  158\n",
       "1  109  139  161  161  112\n",
       "2  145  167  122  119  121\n",
       "3  128  128  169  152  168\n",
       "4  164  165  163  196  140\n",
       "5  167  141  108  153  161"
      ]
     },
     "execution_count": 63,
     "metadata": {},
     "output_type": "execute_result"
    }
   ],
   "source": [
    "df=pd.DataFrame(b)\n",
    "df"
   ]
  },
  {
   "cell_type": "code",
   "execution_count": 65,
   "id": "68224cf0-c207-4e11-ac11-6b7b8fe36b21",
   "metadata": {},
   "outputs": [
    {
     "data": {
      "text/html": [
       "<div>\n",
       "<style scoped>\n",
       "    .dataframe tbody tr th:only-of-type {\n",
       "        vertical-align: middle;\n",
       "    }\n",
       "\n",
       "    .dataframe tbody tr th {\n",
       "        vertical-align: top;\n",
       "    }\n",
       "\n",
       "    .dataframe thead th {\n",
       "        text-align: right;\n",
       "    }\n",
       "</style>\n",
       "<table border=\"1\" class=\"dataframe\">\n",
       "  <thead>\n",
       "    <tr style=\"text-align: right;\">\n",
       "      <th></th>\n",
       "      <th>Roll</th>\n",
       "      <th>name</th>\n",
       "      <th>age</th>\n",
       "      <th>adds</th>\n",
       "      <th>country</th>\n",
       "    </tr>\n",
       "  </thead>\n",
       "  <tbody>\n",
       "    <tr>\n",
       "      <th>0</th>\n",
       "      <td>132</td>\n",
       "      <td>190</td>\n",
       "      <td>104</td>\n",
       "      <td>174</td>\n",
       "      <td>158</td>\n",
       "    </tr>\n",
       "    <tr>\n",
       "      <th>1</th>\n",
       "      <td>109</td>\n",
       "      <td>139</td>\n",
       "      <td>161</td>\n",
       "      <td>161</td>\n",
       "      <td>112</td>\n",
       "    </tr>\n",
       "    <tr>\n",
       "      <th>2</th>\n",
       "      <td>145</td>\n",
       "      <td>167</td>\n",
       "      <td>122</td>\n",
       "      <td>119</td>\n",
       "      <td>121</td>\n",
       "    </tr>\n",
       "    <tr>\n",
       "      <th>3</th>\n",
       "      <td>128</td>\n",
       "      <td>128</td>\n",
       "      <td>169</td>\n",
       "      <td>152</td>\n",
       "      <td>168</td>\n",
       "    </tr>\n",
       "    <tr>\n",
       "      <th>4</th>\n",
       "      <td>164</td>\n",
       "      <td>165</td>\n",
       "      <td>163</td>\n",
       "      <td>196</td>\n",
       "      <td>140</td>\n",
       "    </tr>\n",
       "    <tr>\n",
       "      <th>5</th>\n",
       "      <td>167</td>\n",
       "      <td>141</td>\n",
       "      <td>108</td>\n",
       "      <td>153</td>\n",
       "      <td>161</td>\n",
       "    </tr>\n",
       "  </tbody>\n",
       "</table>\n",
       "</div>"
      ],
      "text/plain": [
       "   Roll  name  age  adds  country\n",
       "0   132   190  104   174      158\n",
       "1   109   139  161   161      112\n",
       "2   145   167  122   119      121\n",
       "3   128   128  169   152      168\n",
       "4   164   165  163   196      140\n",
       "5   167   141  108   153      161"
      ]
     },
     "execution_count": 65,
     "metadata": {},
     "output_type": "execute_result"
    }
   ],
   "source": [
    "df=pd.DataFrame(b,columns=['Roll','name','age','adds','country'])\n",
    "df"
   ]
  },
  {
   "cell_type": "code",
   "execution_count": 67,
   "id": "e4390c23-89d8-490a-ac46-db54baf32d1a",
   "metadata": {},
   "outputs": [
    {
     "data": {
      "text/html": [
       "<div>\n",
       "<style scoped>\n",
       "    .dataframe tbody tr th:only-of-type {\n",
       "        vertical-align: middle;\n",
       "    }\n",
       "\n",
       "    .dataframe tbody tr th {\n",
       "        vertical-align: top;\n",
       "    }\n",
       "\n",
       "    .dataframe thead th {\n",
       "        text-align: right;\n",
       "    }\n",
       "</style>\n",
       "<table border=\"1\" class=\"dataframe\">\n",
       "  <thead>\n",
       "    <tr style=\"text-align: right;\">\n",
       "      <th></th>\n",
       "      <th>Roll</th>\n",
       "      <th>name</th>\n",
       "      <th>age</th>\n",
       "      <th>adds</th>\n",
       "      <th>country</th>\n",
       "    </tr>\n",
       "  </thead>\n",
       "  <tbody>\n",
       "    <tr>\n",
       "      <th>182</th>\n",
       "      <td>132</td>\n",
       "      <td>190</td>\n",
       "      <td>104</td>\n",
       "      <td>174</td>\n",
       "      <td>158</td>\n",
       "    </tr>\n",
       "    <tr>\n",
       "      <th>183</th>\n",
       "      <td>109</td>\n",
       "      <td>139</td>\n",
       "      <td>161</td>\n",
       "      <td>161</td>\n",
       "      <td>112</td>\n",
       "    </tr>\n",
       "    <tr>\n",
       "      <th>185</th>\n",
       "      <td>145</td>\n",
       "      <td>167</td>\n",
       "      <td>122</td>\n",
       "      <td>119</td>\n",
       "      <td>121</td>\n",
       "    </tr>\n",
       "    <tr>\n",
       "      <th>186</th>\n",
       "      <td>128</td>\n",
       "      <td>128</td>\n",
       "      <td>169</td>\n",
       "      <td>152</td>\n",
       "      <td>168</td>\n",
       "    </tr>\n",
       "    <tr>\n",
       "      <th>187</th>\n",
       "      <td>164</td>\n",
       "      <td>165</td>\n",
       "      <td>163</td>\n",
       "      <td>196</td>\n",
       "      <td>140</td>\n",
       "    </tr>\n",
       "    <tr>\n",
       "      <th>188</th>\n",
       "      <td>167</td>\n",
       "      <td>141</td>\n",
       "      <td>108</td>\n",
       "      <td>153</td>\n",
       "      <td>161</td>\n",
       "    </tr>\n",
       "  </tbody>\n",
       "</table>\n",
       "</div>"
      ],
      "text/plain": [
       "     Roll  name  age  adds  country\n",
       "182   132   190  104   174      158\n",
       "183   109   139  161   161      112\n",
       "185   145   167  122   119      121\n",
       "186   128   128  169   152      168\n",
       "187   164   165  163   196      140\n",
       "188   167   141  108   153      161"
      ]
     },
     "execution_count": 67,
     "metadata": {},
     "output_type": "execute_result"
    }
   ],
   "source": [
    "df=pd.DataFrame(b,columns=['Roll','name','age','adds','country'],index=[182,183,185,186,187,188])\n",
    "df\n"
   ]
  },
  {
   "cell_type": "code",
   "execution_count": 75,
   "id": "9733a454-0f78-49f2-8e3b-18078e072d16",
   "metadata": {},
   "outputs": [
    {
     "data": {
      "text/plain": [
       "Roll       132\n",
       "name       190\n",
       "age        104\n",
       "adds       174\n",
       "country    158\n",
       "Name: 182, dtype: int32"
      ]
     },
     "execution_count": 75,
     "metadata": {},
     "output_type": "execute_result"
    }
   ],
   "source": [
    "df.iloc[0]#given defaults values"
   ]
  },
  {
   "cell_type": "code",
   "execution_count": 77,
   "id": "c8487c3d-363a-4110-9740-55fa21887dde",
   "metadata": {},
   "outputs": [
    {
     "data": {
      "text/plain": [
       "Roll       132\n",
       "name       190\n",
       "age        104\n",
       "adds       174\n",
       "country    158\n",
       "Name: 182, dtype: int32"
      ]
     },
     "execution_count": 77,
     "metadata": {},
     "output_type": "execute_result"
    }
   ],
   "source": [
    "df.loc[182]"
   ]
  },
  {
   "cell_type": "code",
   "execution_count": 79,
   "id": "e0000e26-1947-4e43-81fe-4fc7776127ac",
   "metadata": {},
   "outputs": [
    {
     "data": {
      "text/plain": [
       "132"
      ]
     },
     "execution_count": 79,
     "metadata": {},
     "output_type": "execute_result"
    }
   ],
   "source": [
    "df.iloc[0,0]"
   ]
  },
  {
   "cell_type": "code",
   "execution_count": 81,
   "id": "98d2c3da-8ddb-4e6a-909d-b8444ef1e85c",
   "metadata": {},
   "outputs": [
    {
     "data": {
      "text/plain": [
       "132"
      ]
     },
     "execution_count": 81,
     "metadata": {},
     "output_type": "execute_result"
    }
   ],
   "source": [
    "df.loc[182,'Roll']"
   ]
  },
  {
   "cell_type": "code",
   "execution_count": 85,
   "id": "7a8c88a7-49aa-46ae-a75a-72ea98043d9b",
   "metadata": {},
   "outputs": [
    {
     "data": {
      "text/plain": [
       "Roll    132\n",
       "name    190\n",
       "age     104\n",
       "Name: 182, dtype: int32"
      ]
     },
     "execution_count": 85,
     "metadata": {},
     "output_type": "execute_result"
    }
   ],
   "source": [
    "df.loc[182,['Roll','name','age']]"
   ]
  },
  {
   "cell_type": "code",
   "execution_count": 87,
   "id": "a2d4d6f7-1416-4c4e-a73d-90ee911f65ce",
   "metadata": {},
   "outputs": [
    {
     "data": {
      "text/plain": [
       "Roll    132\n",
       "name    190\n",
       "age     104\n",
       "Name: 182, dtype: int32"
      ]
     },
     "execution_count": 87,
     "metadata": {},
     "output_type": "execute_result"
    }
   ],
   "source": [
    "df.iloc[0,0:3]"
   ]
  },
  {
   "cell_type": "code",
   "execution_count": 89,
   "id": "1a957f36-8c1d-4816-9ae4-b76899bb10fb",
   "metadata": {},
   "outputs": [
    {
     "data": {
      "text/plain": [
       "Roll    132\n",
       "name    190\n",
       "age     104\n",
       "Name: 182, dtype: int32"
      ]
     },
     "execution_count": 89,
     "metadata": {},
     "output_type": "execute_result"
    }
   ],
   "source": [
    "df.iloc[0,[0,1,2]]"
   ]
  },
  {
   "cell_type": "code",
   "execution_count": 91,
   "id": "4f2f22b2-f3d9-4469-88f3-cb29fd4bb90a",
   "metadata": {},
   "outputs": [
    {
     "data": {
      "text/html": [
       "<div>\n",
       "<style scoped>\n",
       "    .dataframe tbody tr th:only-of-type {\n",
       "        vertical-align: middle;\n",
       "    }\n",
       "\n",
       "    .dataframe tbody tr th {\n",
       "        vertical-align: top;\n",
       "    }\n",
       "\n",
       "    .dataframe thead th {\n",
       "        text-align: right;\n",
       "    }\n",
       "</style>\n",
       "<table border=\"1\" class=\"dataframe\">\n",
       "  <thead>\n",
       "    <tr style=\"text-align: right;\">\n",
       "      <th></th>\n",
       "      <th>Roll</th>\n",
       "      <th>name</th>\n",
       "      <th>age</th>\n",
       "      <th>adds</th>\n",
       "      <th>country</th>\n",
       "    </tr>\n",
       "  </thead>\n",
       "  <tbody>\n",
       "    <tr>\n",
       "      <th>182</th>\n",
       "      <td>132</td>\n",
       "      <td>190</td>\n",
       "      <td>104</td>\n",
       "      <td>174</td>\n",
       "      <td>158</td>\n",
       "    </tr>\n",
       "    <tr>\n",
       "      <th>188</th>\n",
       "      <td>167</td>\n",
       "      <td>141</td>\n",
       "      <td>108</td>\n",
       "      <td>153</td>\n",
       "      <td>161</td>\n",
       "    </tr>\n",
       "  </tbody>\n",
       "</table>\n",
       "</div>"
      ],
      "text/plain": [
       "     Roll  name  age  adds  country\n",
       "182   132   190  104   174      158\n",
       "188   167   141  108   153      161"
      ]
     },
     "execution_count": 91,
     "metadata": {},
     "output_type": "execute_result"
    }
   ],
   "source": [
    "df.iloc[[0,5]]\n"
   ]
  },
  {
   "cell_type": "code",
   "execution_count": 93,
   "id": "d22641d0-8956-431f-bab5-4006b2030a9a",
   "metadata": {},
   "outputs": [
    {
     "data": {
      "text/html": [
       "<div>\n",
       "<style scoped>\n",
       "    .dataframe tbody tr th:only-of-type {\n",
       "        vertical-align: middle;\n",
       "    }\n",
       "\n",
       "    .dataframe tbody tr th {\n",
       "        vertical-align: top;\n",
       "    }\n",
       "\n",
       "    .dataframe thead th {\n",
       "        text-align: right;\n",
       "    }\n",
       "</style>\n",
       "<table border=\"1\" class=\"dataframe\">\n",
       "  <thead>\n",
       "    <tr style=\"text-align: right;\">\n",
       "      <th></th>\n",
       "      <th>Roll</th>\n",
       "      <th>name</th>\n",
       "      <th>age</th>\n",
       "      <th>adds</th>\n",
       "      <th>country</th>\n",
       "    </tr>\n",
       "  </thead>\n",
       "  <tbody>\n",
       "    <tr>\n",
       "      <th>183</th>\n",
       "      <td>109</td>\n",
       "      <td>139</td>\n",
       "      <td>161</td>\n",
       "      <td>161</td>\n",
       "      <td>112</td>\n",
       "    </tr>\n",
       "    <tr>\n",
       "      <th>186</th>\n",
       "      <td>128</td>\n",
       "      <td>128</td>\n",
       "      <td>169</td>\n",
       "      <td>152</td>\n",
       "      <td>168</td>\n",
       "    </tr>\n",
       "    <tr>\n",
       "      <th>187</th>\n",
       "      <td>164</td>\n",
       "      <td>165</td>\n",
       "      <td>163</td>\n",
       "      <td>196</td>\n",
       "      <td>140</td>\n",
       "    </tr>\n",
       "  </tbody>\n",
       "</table>\n",
       "</div>"
      ],
      "text/plain": [
       "     Roll  name  age  adds  country\n",
       "183   109   139  161   161      112\n",
       "186   128   128  169   152      168\n",
       "187   164   165  163   196      140"
      ]
     },
     "execution_count": 93,
     "metadata": {},
     "output_type": "execute_result"
    }
   ],
   "source": [
    "df.iloc[[1,3,4]]"
   ]
  },
  {
   "cell_type": "code",
   "execution_count": 95,
   "id": "168e3a55-fbd6-45d4-a15a-8ac9286aac67",
   "metadata": {},
   "outputs": [
    {
     "data": {
      "text/html": [
       "<div>\n",
       "<style scoped>\n",
       "    .dataframe tbody tr th:only-of-type {\n",
       "        vertical-align: middle;\n",
       "    }\n",
       "\n",
       "    .dataframe tbody tr th {\n",
       "        vertical-align: top;\n",
       "    }\n",
       "\n",
       "    .dataframe thead th {\n",
       "        text-align: right;\n",
       "    }\n",
       "</style>\n",
       "<table border=\"1\" class=\"dataframe\">\n",
       "  <thead>\n",
       "    <tr style=\"text-align: right;\">\n",
       "      <th></th>\n",
       "      <th>Roll</th>\n",
       "      <th>name</th>\n",
       "      <th>age</th>\n",
       "      <th>adds</th>\n",
       "      <th>country</th>\n",
       "    </tr>\n",
       "  </thead>\n",
       "  <tbody>\n",
       "    <tr>\n",
       "      <th>182</th>\n",
       "      <td>132</td>\n",
       "      <td>190</td>\n",
       "      <td>104</td>\n",
       "      <td>174</td>\n",
       "      <td>158</td>\n",
       "    </tr>\n",
       "    <tr>\n",
       "      <th>186</th>\n",
       "      <td>128</td>\n",
       "      <td>128</td>\n",
       "      <td>169</td>\n",
       "      <td>152</td>\n",
       "      <td>168</td>\n",
       "    </tr>\n",
       "    <tr>\n",
       "      <th>187</th>\n",
       "      <td>164</td>\n",
       "      <td>165</td>\n",
       "      <td>163</td>\n",
       "      <td>196</td>\n",
       "      <td>140</td>\n",
       "    </tr>\n",
       "  </tbody>\n",
       "</table>\n",
       "</div>"
      ],
      "text/plain": [
       "     Roll  name  age  adds  country\n",
       "182   132   190  104   174      158\n",
       "186   128   128  169   152      168\n",
       "187   164   165  163   196      140"
      ]
     },
     "execution_count": 95,
     "metadata": {},
     "output_type": "execute_result"
    }
   ],
   "source": [
    "df.loc[[182,186,187]]"
   ]
  },
  {
   "cell_type": "code",
   "execution_count": 97,
   "id": "b9de35fb-9d06-4539-b1de-51c0db151943",
   "metadata": {},
   "outputs": [
    {
     "data": {
      "text/html": [
       "<div>\n",
       "<style scoped>\n",
       "    .dataframe tbody tr th:only-of-type {\n",
       "        vertical-align: middle;\n",
       "    }\n",
       "\n",
       "    .dataframe tbody tr th {\n",
       "        vertical-align: top;\n",
       "    }\n",
       "\n",
       "    .dataframe thead th {\n",
       "        text-align: right;\n",
       "    }\n",
       "</style>\n",
       "<table border=\"1\" class=\"dataframe\">\n",
       "  <thead>\n",
       "    <tr style=\"text-align: right;\">\n",
       "      <th></th>\n",
       "      <th>Roll</th>\n",
       "      <th>name</th>\n",
       "      <th>age</th>\n",
       "      <th>adds</th>\n",
       "      <th>country</th>\n",
       "    </tr>\n",
       "  </thead>\n",
       "  <tbody>\n",
       "    <tr>\n",
       "      <th>182</th>\n",
       "      <td>132</td>\n",
       "      <td>190</td>\n",
       "      <td>104</td>\n",
       "      <td>174</td>\n",
       "      <td>158</td>\n",
       "    </tr>\n",
       "    <tr>\n",
       "      <th>183</th>\n",
       "      <td>109</td>\n",
       "      <td>139</td>\n",
       "      <td>161</td>\n",
       "      <td>161</td>\n",
       "      <td>112</td>\n",
       "    </tr>\n",
       "    <tr>\n",
       "      <th>185</th>\n",
       "      <td>145</td>\n",
       "      <td>167</td>\n",
       "      <td>122</td>\n",
       "      <td>119</td>\n",
       "      <td>121</td>\n",
       "    </tr>\n",
       "    <tr>\n",
       "      <th>186</th>\n",
       "      <td>128</td>\n",
       "      <td>128</td>\n",
       "      <td>169</td>\n",
       "      <td>152</td>\n",
       "      <td>168</td>\n",
       "    </tr>\n",
       "    <tr>\n",
       "      <th>187</th>\n",
       "      <td>164</td>\n",
       "      <td>165</td>\n",
       "      <td>163</td>\n",
       "      <td>196</td>\n",
       "      <td>140</td>\n",
       "    </tr>\n",
       "    <tr>\n",
       "      <th>188</th>\n",
       "      <td>167</td>\n",
       "      <td>141</td>\n",
       "      <td>108</td>\n",
       "      <td>153</td>\n",
       "      <td>161</td>\n",
       "    </tr>\n",
       "  </tbody>\n",
       "</table>\n",
       "</div>"
      ],
      "text/plain": [
       "     Roll  name  age  adds  country\n",
       "182   132   190  104   174      158\n",
       "183   109   139  161   161      112\n",
       "185   145   167  122   119      121\n",
       "186   128   128  169   152      168\n",
       "187   164   165  163   196      140\n",
       "188   167   141  108   153      161"
      ]
     },
     "execution_count": 97,
     "metadata": {},
     "output_type": "execute_result"
    }
   ],
   "source": [
    "df"
   ]
  },
  {
   "cell_type": "code",
   "execution_count": 99,
   "id": "1c7d3c8e-7e82-4b11-8133-53b7ef0fb482",
   "metadata": {},
   "outputs": [
    {
     "data": {
      "text/plain": [
       "182    104\n",
       "183    161\n",
       "185    122\n",
       "186    169\n",
       "187    163\n",
       "188    108\n",
       "Name: age, dtype: int32"
      ]
     },
     "execution_count": 99,
     "metadata": {},
     "output_type": "execute_result"
    }
   ],
   "source": [
    "df.age"
   ]
  },
  {
   "cell_type": "code",
   "execution_count": 101,
   "id": "5cab7aef-9f26-4b21-be31-596434f5c220",
   "metadata": {},
   "outputs": [
    {
     "data": {
      "text/plain": [
       "182    104\n",
       "183    161\n",
       "185    122\n",
       "186    169\n",
       "187    163\n",
       "188    108\n",
       "Name: age, dtype: int32"
      ]
     },
     "execution_count": 101,
     "metadata": {},
     "output_type": "execute_result"
    }
   ],
   "source": [
    "df['age']"
   ]
  },
  {
   "cell_type": "code",
   "execution_count": 115,
   "id": "38e64bf4-ac41-4be8-acca-87fb9a3e5cbf",
   "metadata": {},
   "outputs": [
    {
     "data": {
      "text/html": [
       "<div>\n",
       "<style scoped>\n",
       "    .dataframe tbody tr th:only-of-type {\n",
       "        vertical-align: middle;\n",
       "    }\n",
       "\n",
       "    .dataframe tbody tr th {\n",
       "        vertical-align: top;\n",
       "    }\n",
       "\n",
       "    .dataframe thead th {\n",
       "        text-align: right;\n",
       "    }\n",
       "</style>\n",
       "<table border=\"1\" class=\"dataframe\">\n",
       "  <thead>\n",
       "    <tr style=\"text-align: right;\">\n",
       "      <th></th>\n",
       "      <th>age</th>\n",
       "      <th>adds</th>\n",
       "      <th>Roll</th>\n",
       "    </tr>\n",
       "  </thead>\n",
       "  <tbody>\n",
       "    <tr>\n",
       "      <th>182</th>\n",
       "      <td>104</td>\n",
       "      <td>174</td>\n",
       "      <td>132</td>\n",
       "    </tr>\n",
       "    <tr>\n",
       "      <th>183</th>\n",
       "      <td>161</td>\n",
       "      <td>161</td>\n",
       "      <td>109</td>\n",
       "    </tr>\n",
       "    <tr>\n",
       "      <th>185</th>\n",
       "      <td>122</td>\n",
       "      <td>119</td>\n",
       "      <td>145</td>\n",
       "    </tr>\n",
       "    <tr>\n",
       "      <th>186</th>\n",
       "      <td>169</td>\n",
       "      <td>152</td>\n",
       "      <td>128</td>\n",
       "    </tr>\n",
       "    <tr>\n",
       "      <th>187</th>\n",
       "      <td>163</td>\n",
       "      <td>196</td>\n",
       "      <td>164</td>\n",
       "    </tr>\n",
       "    <tr>\n",
       "      <th>188</th>\n",
       "      <td>108</td>\n",
       "      <td>153</td>\n",
       "      <td>167</td>\n",
       "    </tr>\n",
       "  </tbody>\n",
       "</table>\n",
       "</div>"
      ],
      "text/plain": [
       "     age  adds  Roll\n",
       "182  104   174   132\n",
       "183  161   161   109\n",
       "185  122   119   145\n",
       "186  169   152   128\n",
       "187  163   196   164\n",
       "188  108   153   167"
      ]
     },
     "execution_count": 115,
     "metadata": {},
     "output_type": "execute_result"
    }
   ],
   "source": [
    "df[['age','adds','Roll',]]"
   ]
  },
  {
   "cell_type": "code",
   "execution_count": null,
   "id": "4cd5806c-1d37-4a95-b5a9-a4db901fc39d",
   "metadata": {},
   "outputs": [],
   "source": []
  }
 ],
 "metadata": {
  "kernelspec": {
   "display_name": "Python [conda env:base] *",
   "language": "python",
   "name": "conda-base-py"
  },
  "language_info": {
   "codemirror_mode": {
    "name": "ipython",
    "version": 3
   },
   "file_extension": ".py",
   "mimetype": "text/x-python",
   "name": "python",
   "nbconvert_exporter": "python",
   "pygments_lexer": "ipython3",
   "version": "3.12.7"
  }
 },
 "nbformat": 4,
 "nbformat_minor": 5
}
