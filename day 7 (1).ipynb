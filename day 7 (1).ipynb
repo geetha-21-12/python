{
 "cells": [
  {
   "cell_type": "code",
   "execution_count": 7,
   "id": "550511ea-8c6f-41bb-9a93-bf2ea0c62b33",
   "metadata": {},
   "outputs": [
    {
     "name": "stdout",
     "output_type": "stream",
     "text": [
      "H\n"
     ]
    }
   ],
   "source": [
    "print(\"H\")"
   ]
  },
  {
   "cell_type": "code",
   "execution_count": 9,
   "id": "d9c7de04-8338-486a-a2c5-f2205904b114",
   "metadata": {},
   "outputs": [
    {
     "name": "stdout",
     "output_type": "stream",
     "text": [
      "yes 5\n",
      "yes 6\n",
      "yes 7\n",
      "yes 8\n",
      "yes 9\n"
     ]
    }
   ],
   "source": [
    "x=5\n",
    "while x<10:\n",
    "    print(\"yes\",x)\n",
    "    x=x+1"
   ]
  },
  {
   "cell_type": "code",
   "execution_count": 15,
   "id": "f93cfe9f-aaac-4079-965b-304be7962a19",
   "metadata": {},
   "outputs": [
    {
     "data": {
      "text/plain": [
       "[2, 3, 4, 5, 6]"
      ]
     },
     "execution_count": 15,
     "metadata": {},
     "output_type": "execute_result"
    }
   ],
   "source": [
    "y=[2,3,4,5,6]\n",
    "y"
   ]
  },
  {
   "cell_type": "code",
   "execution_count": 17,
   "id": "ee94f92c-a0b4-4d7c-8d0c-f641fb14d87d",
   "metadata": {},
   "outputs": [
    {
     "name": "stdout",
     "output_type": "stream",
     "text": [
      "2\n",
      "3\n",
      "4\n",
      "5\n",
      "6\n"
     ]
    }
   ],
   "source": [
    "for t in y:\n",
    "    print(t)"
   ]
  },
  {
   "cell_type": "code",
   "execution_count": 21,
   "id": "e8fb2504-6ada-4330-856b-37391e731a46",
   "metadata": {},
   "outputs": [
    {
     "name": "stdout",
     "output_type": "stream",
     "text": [
      "[2, 3, 4, 5, 6]\n"
     ]
    }
   ],
   "source": [
    "print(y)"
   ]
  },
  {
   "cell_type": "code",
   "execution_count": 23,
   "id": "de1d4697-1d4b-44ff-9512-8b46d6b071b9",
   "metadata": {},
   "outputs": [
    {
     "data": {
      "text/plain": [
       "20"
      ]
     },
     "execution_count": 23,
     "metadata": {},
     "output_type": "execute_result"
    }
   ],
   "source": [
    "2*5+10\n"
   ]
  },
  {
   "cell_type": "code",
   "execution_count": 43,
   "id": "1a8744f7-7b52-4f48-a1b2-10bf40408190",
   "metadata": {},
   "outputs": [
    {
     "data": {
      "text/plain": [
       "[20, 25, 30, 35, 40]"
      ]
     },
     "execution_count": 43,
     "metadata": {},
     "output_type": "execute_result"
    }
   ],
   "source": [
    "e=[]\n",
    "for i in y:\n",
    "    e.append(i*5+10)\n",
    "e"
   ]
  },
  {
   "cell_type": "code",
   "execution_count": 45,
   "id": "f8df4bc1-8efe-4943-9af6-ec433feb4ba9",
   "metadata": {},
   "outputs": [
    {
     "data": {
      "text/plain": [
       "[20, 25, 30, 35, 40]"
      ]
     },
     "execution_count": 45,
     "metadata": {},
     "output_type": "execute_result"
    }
   ],
   "source": [
    "e"
   ]
  },
  {
   "cell_type": "code",
   "execution_count": 75,
   "id": "a8a7d5b1-e2ff-4598-86b2-c6466675dd6c",
   "metadata": {},
   "outputs": [
    {
     "data": {
      "text/plain": [
       "[31, 45, 66, 33, 90, 78, 67, 87, 89, 73, 25, 59, 9, 81]"
      ]
     },
     "execution_count": 75,
     "metadata": {},
     "output_type": "execute_result"
    }
   ],
   "source": [
    "num=[31,45,66,33,90,78,67,87,89,73,25,59,9,81]\n",
    "num"
   ]
  },
  {
   "cell_type": "markdown",
   "id": "e724a453-4fd0-4e59-af6d-4129814b54ab",
   "metadata": {},
   "source": []
  },
  {
   "cell_type": "code",
   "execution_count": 60,
   "id": "48ad0a20-0d06-4876-b3ee-9c34322a2a59",
   "metadata": {},
   "outputs": [],
   "source": [
    "j=[]\n",
    "k=[]\n",
    "for i in num:\n",
    "    if i%2==0:\n",
    "        j.append(i)\n",
    "    else:\n",
    "        k.append(i)"
   ]
  },
  {
   "cell_type": "code",
   "execution_count": 71,
   "id": "530e080a-2e19-495a-8d19-2dd740686e07",
   "metadata": {},
   "outputs": [
    {
     "data": {
      "text/plain": [
       "[66, 90, 78]"
      ]
     },
     "execution_count": 71,
     "metadata": {},
     "output_type": "execute_result"
    }
   ],
   "source": [
    "j"
   ]
  },
  {
   "cell_type": "code",
   "execution_count": 73,
   "id": "1a1f7cf6-656a-4fe2-8c6f-2c7a99178538",
   "metadata": {},
   "outputs": [
    {
     "data": {
      "text/plain": [
       "[31, 45, 33, 67, 87, 89, 73, 25, 59, 9, 81]"
      ]
     },
     "execution_count": 73,
     "metadata": {},
     "output_type": "execute_result"
    }
   ],
   "source": [
    "k"
   ]
  },
  {
   "cell_type": "code",
   "execution_count": 67,
   "id": "4f9e7a27-5019-47da-9969-d8b0b362fda1",
   "metadata": {},
   "outputs": [
    {
     "data": {
      "text/plain": [
       "[31, 45, 66, 33, 90, 78, 67, 87, 89, 73, 25, 59, 9, 81]"
      ]
     },
     "execution_count": 67,
     "metadata": {},
     "output_type": "execute_result"
    }
   ],
   "source": [
    "num"
   ]
  },
  {
   "cell_type": "code",
   "execution_count": 79,
   "id": "1f93606b-a723-457c-88ec-093b97c83ccd",
   "metadata": {},
   "outputs": [
    {
     "data": {
      "text/plain": [
       "'31'"
      ]
     },
     "execution_count": 79,
     "metadata": {},
     "output_type": "execute_result"
    }
   ],
   "source": [
    "t=str(31)\n",
    "t"
   ]
  },
  {
   "cell_type": "code",
   "execution_count": 81,
   "id": "4fdc72d4-de8f-4449-949e-76df266837df",
   "metadata": {},
   "outputs": [
    {
     "data": {
      "text/plain": [
       "'[31, 45, 66, 33, 90, 78, 67, 87, 89, 73, 25, 59, 9, 81]'"
      ]
     },
     "execution_count": 81,
     "metadata": {},
     "output_type": "execute_result"
    }
   ],
   "source": [
    "t=str(num)\n",
    "t"
   ]
  },
  {
   "cell_type": "code",
   "execution_count": 90,
   "id": "0789ec9f-f02b-46be-91d7-9258d36ae6b4",
   "metadata": {},
   "outputs": [],
   "source": [
    "h=[]\n",
    "for i in num:\n",
    "    a=str(i)\n",
    "    b=a.replace('9','5')\n",
    "    c=int(b)\n",
    "    h.append(c)"
   ]
  },
  {
   "cell_type": "code",
   "execution_count": 92,
   "id": "4a760f31-d1b7-4213-b068-457224bae41f",
   "metadata": {},
   "outputs": [
    {
     "data": {
      "text/plain": [
       "[31, 45, 66, 33, 50, 78, 67, 87, 85, 73, 25, 55, 5, 81]"
      ]
     },
     "execution_count": 92,
     "metadata": {},
     "output_type": "execute_result"
    }
   ],
   "source": [
    "h"
   ]
  },
  {
   "cell_type": "code",
   "execution_count": 96,
   "id": "0debbc39-6db9-4d46-bd36-14d16306c35f",
   "metadata": {},
   "outputs": [
    {
     "data": {
      "text/plain": [
       "'solutiOnssoftware'"
      ]
     },
     "execution_count": 96,
     "metadata": {},
     "output_type": "execute_result"
    }
   ],
   "source": [
    "'solutiOns' 'software'\n"
   ]
  },
  {
   "cell_type": "code",
   "execution_count": null,
   "id": "999def97-9f0a-4750-a27e-37194703f9b8",
   "metadata": {},
   "outputs": [],
   "source": []
  }
 ],
 "metadata": {
  "kernelspec": {
   "display_name": "Python [conda env:base] *",
   "language": "python",
   "name": "conda-base-py"
  },
  "language_info": {
   "codemirror_mode": {
    "name": "ipython",
    "version": 3
   },
   "file_extension": ".py",
   "mimetype": "text/x-python",
   "name": "python",
   "nbconvert_exporter": "python",
   "pygments_lexer": "ipython3",
   "version": "3.12.7"
  }
 },
 "nbformat": 4,
 "nbformat_minor": 5
}
