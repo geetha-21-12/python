{
 "cells": [
  {
   "cell_type": "code",
   "execution_count": null,
   "id": "00ae0b65-fe49-4b03-8dc3-45c6c1470f83",
   "metadata": {},
   "outputs": [],
   "source": []
  }
 ],
 "metadata": {
  "kernelspec": {
   "display_name": "",
   "name": ""
  },
  "language_info": {
   "name": ""
  }
 },
 "nbformat": 4,
 "nbformat_minor": 5
}
