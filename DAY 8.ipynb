{
 "cells": [
  {
   "cell_type": "code",
   "execution_count": 1,
   "id": "675f8544-7a6c-494c-9884-730ae5faad82",
   "metadata": {},
   "outputs": [],
   "source": [
    "import numpy as np"
   ]
  },
  {
   "cell_type": "code",
   "execution_count": 56,
   "id": "89cc7cc8-89bf-423e-ad0a-6e03e332332f",
   "metadata": {},
   "outputs": [
    {
     "data": {
      "text/plain": [
       "[4, 6, 2, 8, 9, 1]"
      ]
     },
     "execution_count": 56,
     "metadata": {},
     "output_type": "execute_result"
    }
   ],
   "source": [
    "j=[4,6,2,8,9,1]\n",
    "j"
   ]
  },
  {
   "cell_type": "code",
   "execution_count": 58,
   "id": "303874d3-0ced-4c00-a24e-fac0d9e75c3c",
   "metadata": {},
   "outputs": [
    {
     "data": {
      "text/plain": [
       "array([4, 6, 2, 8, 9, 1])"
      ]
     },
     "execution_count": 58,
     "metadata": {},
     "output_type": "execute_result"
    }
   ],
   "source": [
    "np.array(j)"
   ]
  },
  {
   "cell_type": "code",
   "execution_count": 60,
   "id": "52e1de45-9022-480c-9b98-9b8164a52bc5",
   "metadata": {},
   "outputs": [
    {
     "data": {
      "text/plain": [
       "(4, 6, 2, 8, 9, 1)"
      ]
     },
     "execution_count": 60,
     "metadata": {},
     "output_type": "execute_result"
    }
   ],
   "source": [
    "tuple(j)"
   ]
  },
  {
   "cell_type": "code",
   "execution_count": 62,
   "id": "c6d87754-fd0a-4656-87ee-f5e4687de745",
   "metadata": {},
   "outputs": [],
   "source": [
    "d=np.array(j)"
   ]
  },
  {
   "cell_type": "code",
   "execution_count": 64,
   "id": "0d0bf5db-dae9-43d8-b5ac-f5d44b2b10b1",
   "metadata": {},
   "outputs": [
    {
     "data": {
      "text/plain": [
       "array([4, 6, 2, 8, 9, 1])"
      ]
     },
     "execution_count": 64,
     "metadata": {},
     "output_type": "execute_result"
    }
   ],
   "source": [
    "d"
   ]
  },
  {
   "cell_type": "code",
   "execution_count": 66,
   "id": "a1cf595f-fc9e-46db-8b32-d650d1cb51b3",
   "metadata": {},
   "outputs": [
    {
     "data": {
      "text/plain": [
       "1"
      ]
     },
     "execution_count": 66,
     "metadata": {},
     "output_type": "execute_result"
    }
   ],
   "source": [
    "d.ndim"
   ]
  },
  {
   "cell_type": "code",
   "execution_count": 68,
   "id": "76e9ed30-56da-4e43-8da5-939955569296",
   "metadata": {},
   "outputs": [
    {
     "data": {
      "text/plain": [
       "(6,)"
      ]
     },
     "execution_count": 68,
     "metadata": {},
     "output_type": "execute_result"
    }
   ],
   "source": [
    "d.shape"
   ]
  },
  {
   "cell_type": "code",
   "execution_count": 26,
   "id": "cd50326f-6869-4076-8700-ea38b80f548a",
   "metadata": {},
   "outputs": [
    {
     "data": {
      "text/plain": [
       "5"
      ]
     },
     "execution_count": 26,
     "metadata": {},
     "output_type": "execute_result"
    }
   ],
   "source": [
    "d.size"
   ]
  },
  {
   "cell_type": "code",
   "execution_count": 70,
   "id": "a332e7bd-0fc3-43bd-bfea-c916335dfaac",
   "metadata": {},
   "outputs": [
    {
     "data": {
      "text/plain": [
       "array([[4, 6, 2],\n",
       "       [8, 9, 1]])"
      ]
     },
     "execution_count": 70,
     "metadata": {},
     "output_type": "execute_result"
    }
   ],
   "source": [
    "h=d.reshape(2,3)\n",
    "h"
   ]
  },
  {
   "cell_type": "code",
   "execution_count": 72,
   "id": "6bad9063-eb7d-4d4b-86af-799b7c735659",
   "metadata": {},
   "outputs": [],
   "source": [
    "import numpy as np"
   ]
  },
  {
   "cell_type": "code",
   "execution_count": 74,
   "id": "49f4ef02-b4f1-420f-9ac3-a247fb91a4b6",
   "metadata": {},
   "outputs": [
    {
     "data": {
      "text/plain": [
       "[[1, 2, 3, 4], [5, 6, 7, 8], [9, 10, 11, 12], [13, 14, 15, 16]]"
      ]
     },
     "execution_count": 74,
     "metadata": {},
     "output_type": "execute_result"
    }
   ],
   "source": [
    "s=[[1,2,3,4],[5,6,7,8],[9,10,11,12],[13,14,15,16]]\n",
    "s"
   ]
  },
  {
   "cell_type": "code",
   "execution_count": 76,
   "id": "cc300dee-952b-4a65-b1ba-12b742289b86",
   "metadata": {},
   "outputs": [
    {
     "data": {
      "text/plain": [
       "array([[ 1,  2,  3,  4],\n",
       "       [ 5,  6,  7,  8],\n",
       "       [ 9, 10, 11, 12],\n",
       "       [13, 14, 15, 16]])"
      ]
     },
     "execution_count": 76,
     "metadata": {},
     "output_type": "execute_result"
    }
   ],
   "source": [
    "arr1=np.array(s)\n",
    "arr1"
   ]
  },
  {
   "cell_type": "code",
   "execution_count": 78,
   "id": "d0aa537e-86c9-491e-a8fa-760be261fa2b",
   "metadata": {},
   "outputs": [
    {
     "data": {
      "text/plain": [
       "(4, 4)"
      ]
     },
     "execution_count": 78,
     "metadata": {},
     "output_type": "execute_result"
    }
   ],
   "source": [
    "arr1.shape"
   ]
  },
  {
   "cell_type": "code",
   "execution_count": 80,
   "id": "42526dd0-e6c3-496d-a5df-5329fd842ffe",
   "metadata": {},
   "outputs": [
    {
     "data": {
      "text/plain": [
       "16"
      ]
     },
     "execution_count": 80,
     "metadata": {},
     "output_type": "execute_result"
    }
   ],
   "source": [
    "arr1.size"
   ]
  },
  {
   "cell_type": "code",
   "execution_count": 82,
   "id": "105fcdca-0c15-4ce7-ac98-d899851426a8",
   "metadata": {},
   "outputs": [
    {
     "data": {
      "text/plain": [
       "2"
      ]
     },
     "execution_count": 82,
     "metadata": {},
     "output_type": "execute_result"
    }
   ],
   "source": [
    "arr1.ndim"
   ]
  },
  {
   "cell_type": "code",
   "execution_count": 89,
   "id": "413b615d-81da-4ca3-a412-67809966af46",
   "metadata": {},
   "outputs": [
    {
     "data": {
      "text/plain": [
       "array([[ 1,  2,  3,  4],\n",
       "       [ 5,  6,  7,  8],\n",
       "       [ 9, 10, 11, 12],\n",
       "       [13, 14, 15, 16]])"
      ]
     },
     "execution_count": 89,
     "metadata": {},
     "output_type": "execute_result"
    }
   ],
   "source": [
    "arr1"
   ]
  },
  {
   "cell_type": "code",
   "execution_count": 93,
   "id": "f301898f-cd92-4954-a881-b376eadcbc01",
   "metadata": {},
   "outputs": [
    {
     "data": {
      "text/plain": [
       "array([[ 1],\n",
       "       [ 2],\n",
       "       [ 3],\n",
       "       [ 4],\n",
       "       [ 5],\n",
       "       [ 6],\n",
       "       [ 7],\n",
       "       [ 8],\n",
       "       [ 9],\n",
       "       [10],\n",
       "       [11],\n",
       "       [12],\n",
       "       [13],\n",
       "       [14],\n",
       "       [15],\n",
       "       [16]])"
      ]
     },
     "execution_count": 93,
     "metadata": {},
     "output_type": "execute_result"
    }
   ],
   "source": [
    "z=arr1.reshape(16,1)\n",
    "z"
   ]
  },
  {
   "cell_type": "code",
   "execution_count": 95,
   "id": "2f9e983f-14b2-4484-ac3b-df01e2b4a1fa",
   "metadata": {},
   "outputs": [
    {
     "data": {
      "text/plain": [
       "range(5, 20)"
      ]
     },
     "execution_count": 95,
     "metadata": {},
     "output_type": "execute_result"
    }
   ],
   "source": [
    "range(5,20)"
   ]
  },
  {
   "cell_type": "code",
   "execution_count": 97,
   "id": "6bbb6097-743b-4c1a-9cc5-2d1bfc09e4bf",
   "metadata": {},
   "outputs": [
    {
     "data": {
      "text/plain": [
       "[3, 4, 5, 6, 7, 8]"
      ]
     },
     "execution_count": 97,
     "metadata": {},
     "output_type": "execute_result"
    }
   ],
   "source": [
    "m=[3,4,5,6,7,8]\n",
    "m"
   ]
  },
  {
   "cell_type": "code",
   "execution_count": 99,
   "id": "8f717123-bbad-425f-af54-cc7467eb706a",
   "metadata": {},
   "outputs": [
    {
     "data": {
      "text/plain": [
       "[3, 5, 7, 9, 11]"
      ]
     },
     "execution_count": 99,
     "metadata": {},
     "output_type": "execute_result"
    }
   ],
   "source": [
    "list(range(3,13,2))"
   ]
  },
  {
   "cell_type": "code",
   "execution_count": 107,
   "id": "db4bcb07-e365-4ed5-af8f-896da2f66426",
   "metadata": {},
   "outputs": [
    {
     "data": {
      "text/plain": [
       "(5, 105, 205, 305, 405)"
      ]
     },
     "execution_count": 107,
     "metadata": {},
     "output_type": "execute_result"
    }
   ],
   "source": [
    "tuple(range(5,500,100))"
   ]
  },
  {
   "cell_type": "code",
   "execution_count": 111,
   "id": "d5cc4bcc-02a7-4cc1-9280-3397dbb4f12b",
   "metadata": {},
   "outputs": [
    {
     "data": {
      "text/plain": [
       "[-10, -9, -8, -7, -6, -5, -4, -3, -2, -1, 0]"
      ]
     },
     "execution_count": 111,
     "metadata": {},
     "output_type": "execute_result"
    }
   ],
   "source": [
    "list(range(-10,1))"
   ]
  },
  {
   "cell_type": "code",
   "execution_count": 113,
   "id": "9956c3fa-9eb2-4120-9a3f-5064764009ce",
   "metadata": {},
   "outputs": [
    {
     "data": {
      "text/plain": [
       "range(-1, -10)"
      ]
     },
     "execution_count": 113,
     "metadata": {},
     "output_type": "execute_result"
    }
   ],
   "source": [
    "range(-1,-10)"
   ]
  },
  {
   "cell_type": "code",
   "execution_count": 117,
   "id": "4bb36f37-8e1d-4986-a762-67069ae8970a",
   "metadata": {},
   "outputs": [
    {
     "name": "stdout",
     "output_type": "stream",
     "text": [
      "Data 5\n",
      "Data 10\n",
      "Data 15\n",
      "Data 20\n",
      "Data 25\n",
      "Data 30\n",
      "Data 35\n",
      "Data 40\n",
      "Data 45\n"
     ]
    }
   ],
   "source": [
    "for i in range(5,50,5):\n",
    " print('Data',i)"
   ]
  },
  {
   "cell_type": "code",
   "execution_count": 119,
   "id": "2c04760c-f6ee-434c-8524-2d3ac9146853",
   "metadata": {},
   "outputs": [
    {
     "data": {
      "text/plain": [
       "[10, 20, 30, 40, 50, 60, 70, 800, 90]"
      ]
     },
     "execution_count": 119,
     "metadata": {},
     "output_type": "execute_result"
    }
   ],
   "source": [
    "j=[10,20,30,40,50,60,70,800,90]\n",
    "j"
   ]
  },
  {
   "cell_type": "code",
   "execution_count": 128,
   "id": "b02e5b2b-50d2-4d47-a2e1-b87ee01163a1",
   "metadata": {},
   "outputs": [
    {
     "name": "stdout",
     "output_type": "stream",
     "text": [
      "[10]\n",
      "[20]\n",
      "[10, 30]\n",
      "[20, 40]\n",
      "[10, 30, 50]\n",
      "[20, 40, 60]\n",
      "[10, 30, 50, 70]\n",
      "[20, 40, 60, 800]\n"
     ]
    }
   ],
   "source": [
    "y=[]\n",
    "x=[]\n",
    "for i in range(len(j)):\n",
    "    if i%2==0:\n",
    "         x.append(j[i])\n",
    "    else:\n",
    "         y.append(j[i])\n",
    "         print(x)\n",
    "         print(y)"
   ]
  },
  {
   "cell_type": "code",
   "execution_count": null,
   "id": "cf450386-903e-48b0-9feb-10afbf3f5840",
   "metadata": {},
   "outputs": [],
   "source": []
  }
 ],
 "metadata": {
  "kernelspec": {
   "display_name": "Python [conda env:base] *",
   "language": "python",
   "name": "conda-base-py"
  },
  "language_info": {
   "codemirror_mode": {
    "name": "ipython",
    "version": 3
   },
   "file_extension": ".py",
   "mimetype": "text/x-python",
   "name": "python",
   "nbconvert_exporter": "python",
   "pygments_lexer": "ipython3",
   "version": "3.12.7"
  }
 },
 "nbformat": 4,
 "nbformat_minor": 5
}
