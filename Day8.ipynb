{
 "cells": [
  {
   "cell_type": "markdown",
   "id": "48c47203-77da-408a-af4e-9bf830fc0e21",
   "metadata": {},
   "source": []
  },
  {
   "cell_type": "code",
   "execution_count": null,
   "id": "a595127a-9acc-4e4e-8387-06054382c9a8",
   "metadata": {},
   "outputs": [],
   "source": [
    "def"
   ]
  },
  {
   "cell_type": "code",
   "execution_count": null,
   "id": "ec49ce60-9c11-47d0-89ff-79c1dd85d74d",
   "metadata": {},
   "outputs": [],
   "source": [
    "len"
   ]
  },
  {
   "cell_type": "code",
   "execution_count": 13,
   "id": "27965be9-8ab0-4bb7-947c-d3ffcf0f42be",
   "metadata": {},
   "outputs": [
    {
     "data": {
      "text/plain": [
       "'Mallareddy University'"
      ]
     },
     "execution_count": 13,
     "metadata": {},
     "output_type": "execute_result"
    }
   ],
   "source": [
    "y='Mallareddy University'\n",
    "y"
   ]
  },
  {
   "cell_type": "code",
   "execution_count": 15,
   "id": "2fef0878-554d-41f4-83f6-258bfaf10c8c",
   "metadata": {},
   "outputs": [
    {
     "data": {
      "text/plain": [
       "21"
      ]
     },
     "execution_count": 15,
     "metadata": {},
     "output_type": "execute_result"
    }
   ],
   "source": [
    "len(y)"
   ]
  },
  {
   "cell_type": "code",
   "execution_count": 17,
   "id": "6df3ffa7-60a6-4890-a845-51e1d5223537",
   "metadata": {},
   "outputs": [
    {
     "data": {
      "text/plain": [
       "2"
      ]
     },
     "execution_count": 17,
     "metadata": {},
     "output_type": "execute_result"
    }
   ],
   "source": [
    "y.count('a')"
   ]
  },
  {
   "cell_type": "code",
   "execution_count": 19,
   "id": "98274b2c-aa4a-4dd4-8703-742df2e43433",
   "metadata": {},
   "outputs": [
    {
     "data": {
      "text/plain": [
       "'Mallareddy University'"
      ]
     },
     "execution_count": 19,
     "metadata": {},
     "output_type": "execute_result"
    }
   ],
   "source": [
    "y"
   ]
  },
  {
   "cell_type": "code",
   "execution_count": 21,
   "id": "80dbb7f6-4f1c-4a49-807b-dfb2cbd64928",
   "metadata": {},
   "outputs": [
    {
     "name": "stdout",
     "output_type": "stream",
     "text": [
      "2\n"
     ]
    }
   ],
   "source": [
    "y=\"Mallareddy University\"\n",
    "c=y.lower().count('a')\n",
    "print(c)"
   ]
  },
  {
   "cell_type": "code",
   "execution_count": null,
   "id": "8d36bcaa-2636-4fa3-b0f0-6e7a03193780",
   "metadata": {},
   "outputs": [],
   "source": [
    "def functionname(parameter):\n",
    "    blockof code\n",
    "    return output"
   ]
  },
  {
   "cell_type": "code",
   "execution_count": 31,
   "id": "02f5c5af-6506-4a33-ab6c-d5573a86164b",
   "metadata": {},
   "outputs": [],
   "source": [
    "def calArea(r):\n",
    "    a=3.14*r*r\n",
    "    return a"
   ]
  },
  {
   "cell_type": "code",
   "execution_count": 33,
   "id": "4fff6213-8210-4fa7-b885-00edcf1ad138",
   "metadata": {},
   "outputs": [
    {
     "data": {
      "text/plain": [
       "2826.0"
      ]
     },
     "execution_count": 33,
     "metadata": {},
     "output_type": "execute_result"
    }
   ],
   "source": [
    "calArea(r=30)"
   ]
  },
  {
   "cell_type": "code",
   "execution_count": 37,
   "id": "ba1084d3-60d2-4dee-a8fa-774f498d343c",
   "metadata": {},
   "outputs": [
    {
     "data": {
      "text/plain": [
       "1962.5"
      ]
     },
     "execution_count": 37,
     "metadata": {},
     "output_type": "execute_result"
    }
   ],
   "source": [
    "w=calArea(r=25)\n",
    "w"
   ]
  },
  {
   "cell_type": "code",
   "execution_count": 39,
   "id": "4d5c880e-9685-46f9-b5cb-9643786db420",
   "metadata": {},
   "outputs": [
    {
     "data": {
      "text/plain": [
       "float"
      ]
     },
     "execution_count": 39,
     "metadata": {},
     "output_type": "execute_result"
    }
   ],
   "source": [
    "type(w)"
   ]
  },
  {
   "cell_type": "code",
   "execution_count": 41,
   "id": "3fd58b04-3ed4-4f47-bc60-cd0857f79dea",
   "metadata": {},
   "outputs": [
    {
     "data": {
      "text/plain": [
       "1968.5"
      ]
     },
     "execution_count": 41,
     "metadata": {},
     "output_type": "execute_result"
    }
   ],
   "source": [
    "w+6"
   ]
  },
  {
   "cell_type": "code",
   "execution_count": null,
   "id": "2103e295-c43c-4e6d-b72e-339d2bcd69fa",
   "metadata": {},
   "outputs": [],
   "source": [
    "def"
   ]
  },
  {
   "cell_type": "code",
   "execution_count": 51,
   "id": "e6730b8d-8dcd-4fa5-88e8-ae0e46662fc5",
   "metadata": {},
   "outputs": [
    {
     "name": "stdin",
     "output_type": "stream",
     "text": [
      " 4\n",
      " 5\n"
     ]
    },
    {
     "name": "stdout",
     "output_type": "stream",
     "text": [
      "20\n"
     ]
    }
   ],
   "source": [
    "l=int(input())\n",
    "b=int(input())\n",
    "def area(l,b):\n",
    "    return l*b\n",
    "r=area(l,b)\n",
    "print(r)\n",
    "    "
   ]
  },
  {
   "cell_type": "code",
   "execution_count": 63,
   "id": "f069e8f5-fee0-4fa1-8104-afffc29f988e",
   "metadata": {},
   "outputs": [
    {
     "name": "stdin",
     "output_type": "stream",
     "text": [
      " 21\n",
      " 16\n",
      " 37\n"
     ]
    },
    {
     "name": "stdout",
     "output_type": "stream",
     "text": [
      "Area of circle is: 4298.66\n",
      "Area of circle is: 336\n"
     ]
    }
   ],
   "source": [
    "l=int(input())\n",
    "b=int(input())\n",
    "r=int(input())\n",
    "def areaofcircle(r):\n",
    "    return 3.14*r*r\n",
    "def areaofrect(l,b):\n",
    "    return l*b\n",
    "r1=areaofcircle(r)\n",
    "r2=areaofrect(l,b)\n",
    "print(\"Area of circle is:\",r1)\n",
    "print(\"Area of circle is:\",r2)"
   ]
  },
  {
   "cell_type": "code",
   "execution_count": 69,
   "id": "f0688236-e81e-4dc5-ab1d-530796acadef",
   "metadata": {},
   "outputs": [
    {
     "data": {
      "text/plain": [
       "{314.0, 600, 'area of circle:', 'area of rect:'}"
      ]
     },
     "execution_count": 69,
     "metadata": {},
     "output_type": "execute_result"
    }
   ],
   "source": [
    "\n",
    "def area(rad,l,w):\n",
    "    aoc=3.14*rad*rad\n",
    "    aor=l*w\n",
    "    return{'area of circle:',aoc,'area of rect:',aor}\n",
    "area(10,20,30)"
   ]
  },
  {
   "cell_type": "code",
   "execution_count": 73,
   "id": "77020b4b-5bcd-4fbe-aae1-d4a2ac448b6d",
   "metadata": {},
   "outputs": [
    {
     "data": {
      "text/plain": [
       "'HyderabAAd'"
      ]
     },
     "execution_count": 73,
     "metadata": {},
     "output_type": "execute_result"
    }
   ],
   "source": [
    "t='HyderabAAd'\n",
    "t"
   ]
  },
  {
   "cell_type": "code",
   "execution_count": 75,
   "id": "ff3c2948-aaaa-44ad-9f9f-302df92dbbb6",
   "metadata": {},
   "outputs": [
    {
     "data": {
      "text/plain": [
       "3"
      ]
     },
     "execution_count": 75,
     "metadata": {},
     "output_type": "execute_result"
    }
   ],
   "source": [
    "def c(s):\n",
    "    return s.lower().count('a')\n",
    "c(s='HyderabAAd')"
   ]
  },
  {
   "cell_type": "code",
   "execution_count": 77,
   "id": "3d098c9f-d780-4a24-b050-64f810bd9e28",
   "metadata": {},
   "outputs": [
    {
     "data": {
      "text/plain": [
       "'HyderabAAd 500008 Telangana'"
      ]
     },
     "execution_count": 77,
     "metadata": {},
     "output_type": "execute_result"
    }
   ],
   "source": [
    "t='HyderabAAd 500008 Telangana'\n",
    "t"
   ]
  },
  {
   "cell_type": "code",
   "execution_count": 79,
   "id": "fd73ac28-2a23-4fa1-a112-8654133f7107",
   "metadata": {},
   "outputs": [],
   "source": [
    "def countA(x):\n",
    "    d=x.lower()\n",
    "    return d.count('a')"
   ]
  },
  {
   "cell_type": "code",
   "execution_count": 87,
   "id": "45842744-6050-400d-8d21-5bbd82457002",
   "metadata": {},
   "outputs": [],
   "source": [
    "def count_num_alpha(x):\n",
    "    c=0\n",
    "    d=0\n",
    "    for i in x:\n",
    "        if i.isalpha():\n",
    "            c+=1\n",
    "        elif i.isnumeric():\n",
    "            d+=1\n",
    "        return{'Number of alphabets':c,'Number of digits':d}"
   ]
  },
  {
   "cell_type": "code",
   "execution_count": 93,
   "id": "c321104b-5ad8-4350-94a7-fd6eb5c0d12a",
   "metadata": {},
   "outputs": [
    {
     "data": {
      "text/plain": [
       "{'Number of alphabets': 1, 'Number of digits': 0}"
      ]
     },
     "execution_count": 93,
     "metadata": {},
     "output_type": "execute_result"
    }
   ],
   "source": [
    "count_num_alpha(t)"
   ]
  },
  {
   "cell_type": "code",
   "execution_count": null,
   "id": "b3aa91e8-44e5-40f6-9fda-6496ed05bdd9",
   "metadata": {},
   "outputs": [],
   "source": []
  }
 ],
 "metadata": {
  "kernelspec": {
   "display_name": "Python [conda env:base] *",
   "language": "python",
   "name": "conda-base-py"
  },
  "language_info": {
   "codemirror_mode": {
    "name": "ipython",
    "version": 3
   },
   "file_extension": ".py",
   "mimetype": "text/x-python",
   "name": "python",
   "nbconvert_exporter": "python",
   "pygments_lexer": "ipython3",
   "version": "3.12.7"
  }
 },
 "nbformat": 4,
 "nbformat_minor": 5
}
