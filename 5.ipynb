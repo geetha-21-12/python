{
 "cells": [
  {
   "cell_type": "code",
   "execution_count": 51,
   "id": "16f8d6ab-4d24-437b-91d8-1ec6f06029a4",
   "metadata": {},
   "outputs": [
    {
     "data": {
      "text/plain": [
       "{101: 4, 102: 7, 103: 2}"
      ]
     },
     "execution_count": 51,
     "metadata": {},
     "output_type": "execute_result"
    }
   ],
   "source": [
    "d={ 101:4,102:7,103:2}\n",
    "d"
   ]
  },
  {
   "cell_type": "code",
   "execution_count": 5,
   "id": "b74ef79e-4aec-461c-9b06-9581385a7d56",
   "metadata": {},
   "outputs": [
    {
     "data": {
      "text/plain": [
       "[5, 9, 3, 4]"
      ]
     },
     "execution_count": 5,
     "metadata": {},
     "output_type": "execute_result"
    }
   ],
   "source": [
    "l=[5,9,3,4]\n",
    "l103"
   ]
  },
  {
   "cell_type": "code",
   "execution_count": 8,
   "id": "1412818d-3049-4c39-b7ce-bfcbfbd35fd1",
   "metadata": {},
   "outputs": [
    {
     "data": {
      "text/plain": [
       "9"
      ]
     },
     "execution_count": 8,
     "metadata": {},
     "output_type": "execute_result"
    }
   ],
   "source": [
    "l[1]"
   ]
  },
  {
   "cell_type": "code",
   "execution_count": 22,
   "id": "335d5f5b-67e1-499f-b200-b61069faed40",
   "metadata": {},
   "outputs": [
    {
     "data": {
      "text/plain": [
       "4"
      ]
     },
     "execution_count": 22,
     "metadata": {},
     "output_type": "execute_result"
    }
   ],
   "source": [
    "l[3]"
   ]
  },
  {
   "cell_type": "code",
   "execution_count": 43,
   "id": "66f92451-004c-4ce9-b3ad-36718d7a0025",
   "metadata": {},
   "outputs": [],
   "source": [
    "d.update({101:4})"
   ]
  },
  {
   "cell_type": "code",
   "execution_count": 45,
   "id": "373fd48e-59c3-443a-aaf2-018f4f865634",
   "metadata": {},
   "outputs": [
    {
     "data": {
      "text/plain": [
       "{101: 4, 102: 7, 103: 2}"
      ]
     },
     "execution_count": 45,
     "metadata": {},
     "output_type": "execute_result"
    }
   ],
   "source": [
    "d"
   ]
  },
  {
   "cell_type": "code",
   "execution_count": 60,
   "id": "fe3aa026-2177-4529-9d16-351a14720fa9",
   "metadata": {},
   "outputs": [],
   "source": [
    "geetha=[21,16]"
   ]
  },
  {
   "cell_type": "code",
   "execution_count": 56,
   "id": "a54d1720-7a9f-458a-a545-a0244024466f",
   "metadata": {},
   "outputs": [
    {
     "data": {
      "text/plain": [
       "[21, 16]"
      ]
     },
     "execution_count": 56,
     "metadata": {},
     "output_type": "execute_result"
    }
   ],
   "source": [
    "geetha"
   ]
  },
  {
   "cell_type": "code",
   "execution_count": 68,
   "id": "9f119074-1012-4398-97bb-f80d8433958e",
   "metadata": {},
   "outputs": [
    {
     "data": {
      "text/plain": [
       "4"
      ]
     },
     "execution_count": 68,
     "metadata": {},
     "output_type": "execute_result"
    }
   ],
   "source": [
    "d[101]"
   ]
  },
  {
   "cell_type": "code",
   "execution_count": 74,
   "id": "24c1c7e1-480d-4192-8d0e-6259a5e4383c",
   "metadata": {},
   "outputs": [
    {
     "data": {
      "text/plain": [
       "365"
      ]
     },
     "execution_count": 74,
     "metadata": {},
     "output_type": "execute_result"
    }
   ],
   "source": [
    "d[101]=365\n",
    "d[101]"
   ]
  },
  {
   "cell_type": "code",
   "execution_count": 78,
   "id": "ff3e9b7a-6bb6-487a-9c96-5d0f846040a2",
   "metadata": {},
   "outputs": [
    {
     "data": {
      "text/plain": [
       "{101: 365, 102: 367, 103: 2}"
      ]
     },
     "execution_count": 78,
     "metadata": {},
     "output_type": "execute_result"
    }
   ],
   "source": [
    "d.update({102:367}) \n",
    "d"
   ]
  },
  {
   "cell_type": "code",
   "execution_count": 80,
   "id": "d5e36bf4-c129-4fed-981e-e245c42971f3",
   "metadata": {},
   "outputs": [
    {
     "data": {
      "text/plain": [
       "{101: 365, 102: 367, 103: 2, 105: 380}"
      ]
     },
     "execution_count": 80,
     "metadata": {},
     "output_type": "execute_result"
    }
   ],
   "source": [
    "d[105]=380\n",
    "d"
   ]
  },
  {
   "cell_type": "code",
   "execution_count": 82,
   "id": "aa105eb9-c732-4760-8dbe-771a5ad77d6f",
   "metadata": {},
   "outputs": [
    {
     "data": {
      "text/plain": [
       "{101: 365, 102: 367, 103: 'India', 105: 380}"
      ]
     },
     "execution_count": 82,
     "metadata": {},
     "output_type": "execute_result"
    }
   ],
   "source": [
    "d.update({103:'India'})\n",
    "d"
   ]
  },
  {
   "cell_type": "code",
   "execution_count": 86,
   "id": "6dda1431-a9e7-44ff-b3a1-90c228402775",
   "metadata": {},
   "outputs": [
    {
     "data": {
      "text/plain": [
       "{101: 365, 102: 367, 103: 'India', 105: 380}"
      ]
     },
     "execution_count": 86,
     "metadata": {},
     "output_type": "execute_result"
    }
   ],
   "source": [
    "d"
   ]
  },
  {
   "cell_type": "code",
   "execution_count": 110,
   "id": "e03c3f21-5d76-4f4d-9bd4-ccf26e31df4f",
   "metadata": {},
   "outputs": [],
   "source": [
    "d[101]=[1000,5000,6000,8000]"
   ]
  },
  {
   "cell_type": "code",
   "execution_count": 112,
   "id": "42324869-9a9a-4151-85ac-09b03c3158c1",
   "metadata": {},
   "outputs": [],
   "source": [
    "#d.update({104:[1000,5000,6000,7000]})"
   ]
  },
  {
   "cell_type": "code",
   "execution_count": 114,
   "id": "883e9e9b-a5be-48ba-94f0-e210d6b91348",
   "metadata": {},
   "outputs": [
    {
     "data": {
      "text/plain": [
       "{101: [1000, 5000, 6000, 8000],\n",
       " 102: 367,\n",
       " 103: [1000, 5000, 6000, 8000],\n",
       " 105: 380,\n",
       " 104: [1000, 5000, 6000, 8000],\n",
       " 121: [1000, 5000, 6000, 8000]}"
      ]
     },
     "execution_count": 114,
     "metadata": {},
     "output_type": "execute_result"
    }
   ],
   "source": [
    "d"
   ]
  },
  {
   "cell_type": "code",
   "execution_count": 118,
   "id": "324d67b9-dcab-4f04-b111-33ac0f130369",
   "metadata": {},
   "outputs": [
    {
     "data": {
      "text/plain": [
       "int"
      ]
     },
     "execution_count": 118,
     "metadata": {},
     "output_type": "execute_result"
    }
   ],
   "source": [
    "type(d[102])"
   ]
  },
  {
   "cell_type": "code",
   "execution_count": 120,
   "id": "a7608033-7d87-4910-bc9d-9fb093294c66",
   "metadata": {},
   "outputs": [
    {
     "data": {
      "text/plain": [
       "list"
      ]
     },
     "execution_count": 120,
     "metadata": {},
     "output_type": "execute_result"
    }
   ],
   "source": [
    "type([103])"
   ]
  },
  {
   "cell_type": "code",
   "execution_count": 122,
   "id": "3348026d-9a7e-461d-af35-0d8c3a1dc537",
   "metadata": {},
   "outputs": [
    {
     "data": {
      "text/plain": [
       "dict"
      ]
     },
     "execution_count": 122,
     "metadata": {},
     "output_type": "execute_result"
    }
   ],
   "source": [
    "type(d)"
   ]
  },
  {
   "cell_type": "code",
   "execution_count": 136,
   "id": "1ecf4fa2-c08c-4d06-bd47-1875c2c4f5b2",
   "metadata": {},
   "outputs": [],
   "source": [
    "d.update({103:(30,40,50,60,70)})\n"
   ]
  },
  {
   "cell_type": "code",
   "execution_count": 138,
   "id": "303670ec-405c-47e1-a112-e5e5dd433fbd",
   "metadata": {},
   "outputs": [
    {
     "data": {
      "text/plain": [
       "{101: [1000, 5000, 6000, 8000],\n",
       " 102: 367,\n",
       " 103: (30, 40, 50, 60, 70),\n",
       " 105: 380,\n",
       " 104: [1000, 5000, 6000, 8000],\n",
       " 121: [1000, 5000, 6000, 8000]}"
      ]
     },
     "execution_count": 138,
     "metadata": {},
     "output_type": "execute_result"
    }
   ],
   "source": [
    "d"
   ]
  },
  {
   "cell_type": "code",
   "execution_count": 146,
   "id": "616cce7b-78de-4466-96f2-d960f9cd0ec7",
   "metadata": {},
   "outputs": [
    {
     "data": {
      "text/plain": [
       "{101: [1000, 5000, 6000, 8000],\n",
       " 102: 367,\n",
       " 103: (30, 40, 50, 60, 70),\n",
       " 105: 380,\n",
       " 104: [1000, 5000, 6000, 8000, 65, 65, 65],\n",
       " 121: [1000, 5000, 6000, 8000]}"
      ]
     },
     "execution_count": 146,
     "metadata": {},
     "output_type": "execute_result"
    }
   ],
   "source": [
    "d[104].append(65)\n",
    "d"
   ]
  },
  {
   "cell_type": "code",
   "execution_count": 157,
   "id": "86482ff1-a672-4bd4-8ffd-69c56d8dcd66",
   "metadata": {},
   "outputs": [],
   "source": [
    "d[101]={50:[7,8,9,10,],'apple':(20,10,70,[16,180,270])}"
   ]
  },
  {
   "cell_type": "code",
   "execution_count": 151,
   "id": "cd43fe3a-4523-4a1b-9d00-a7af6dd32630",
   "metadata": {},
   "outputs": [
    {
     "data": {
      "text/plain": [
       "{101: {50: [7, 8, 9, 10], 'apple': (20, 10, 70, [16, 180.27])},\n",
       " 102: 367,\n",
       " 103: (30, 40, 50, 60, 70),\n",
       " 105: 380,\n",
       " 104: [1000, 5000, 6000, 8000, 65, 65, 65],\n",
       " 121: [1000, 5000, 6000, 8000]}"
      ]
     },
     "execution_count": 151,
     "metadata": {},
     "output_type": "execute_result"
    }
   ],
   "source": [
    "d"
   ]
  },
  {
   "cell_type": "code",
   "execution_count": 159,
   "id": "6703e064-0ca4-4579-96b9-0d03c4cb2753",
   "metadata": {},
   "outputs": [
    {
     "data": {
      "text/plain": [
       "{101: {50: [7, 8, 9, 10], 'apple': (20, 10, 70, [16, 180, 270])},\n",
       " 102: 367,\n",
       " 103: (30, 40, 50, 60, 70),\n",
       " 105: {'a': {30, 50, 70},\n",
       "  'b': (1000, 5000, 7000, 9000),\n",
       "  'c': ['k', {'l': [11, 22], 'M': (77, 88)}, 'N']},\n",
       " 104: [1000, 5000, 6000, 8000, 65, 65, 65],\n",
       " 121: [1000, 5000, 6000, 8000]}"
      ]
     },
     "execution_count": 159,
     "metadata": {},
     "output_type": "execute_result"
    }
   ],
   "source": [
    "d[105]={'a':{30,50,70},'b':(1000,5000,7000,9000),'c':['k',{'l':[11,22],'M':(77,88)},'N']}\n",
    "d"
   ]
  },
  {
   "cell_type": "code",
   "execution_count": 177,
   "id": "2ab167ad-1741-46b7-a6bc-56b15678c45d",
   "metadata": {},
   "outputs": [
    {
     "ename": "SyntaxError",
     "evalue": "unmatched '}' (1094769008.py, line 1)",
     "output_type": "error",
     "traceback": [
      "\u001b[1;36m  Cell \u001b[1;32mIn[177], line 1\u001b[1;36m\u001b[0m\n\u001b[1;33m    d[101]['apple']:(20,10,70,[16,180,270])}\u001b[0m\n\u001b[1;37m                                           ^\u001b[0m\n\u001b[1;31mSyntaxError\u001b[0m\u001b[1;31m:\u001b[0m unmatched '}'\n"
     ]
    }
   ],
   "source": [
    "d[101]:{50:[7,8,9,10],:(20,10,70,[16,180,270])}\n",
    "d"
   ]
  },
  {
   "cell_type": "code",
   "execution_count": 175,
   "id": "a5667663-ad0a-4f2d-bf64-fed2a8549d2c",
   "metadata": {},
   "outputs": [
    {
     "data": {
      "text/plain": [
       "180"
      ]
     },
     "execution_count": 175,
     "metadata": {},
     "output_type": "execute_result"
    }
   ],
   "source": [
    "d[101]['apple'][3][1]"
   ]
  },
  {
   "cell_type": "code",
   "execution_count": null,
   "id": "0e59f4a8-9c9b-4af6-8c30-e1897a5eb109",
   "metadata": {},
   "outputs": [],
   "source": []
  }
 ],
 "metadata": {
  "kernelspec": {
   "display_name": "Python [conda env:base] *",
   "language": "python",
   "name": "conda-base-py"
  },
  "language_info": {
   "codemirror_mode": {
    "name": "ipython",
    "version": 3
   },
   "file_extension": ".py",
   "mimetype": "text/x-python",
   "name": "python",
   "nbconvert_exporter": "python",
   "pygments_lexer": "ipython3",
   "version": "3.12.7"
  }
 },
 "nbformat": 4,
 "nbformat_minor": 5
}
