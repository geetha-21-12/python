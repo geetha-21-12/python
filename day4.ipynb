{
 "cells": [
  {
   "cell_type": "code",
   "execution_count": 1,
   "id": "ef45ad53-705b-4977-ad61-d26cce0cdf4f",
   "metadata": {},
   "outputs": [
    {
     "data": {
      "text/plain": [
       "(90, 30, 21, 16, 45)"
      ]
     },
     "execution_count": 1,
     "metadata": {},
     "output_type": "execute_result"
    }
   ],
   "source": [
    "h=(90,30,21,16,45)\n",
    "h"
   ]
  },
  {
   "cell_type": "code",
   "execution_count": 3,
   "id": "e606b0ee-fa4f-4f81-a41e-1e5ff817c211",
   "metadata": {},
   "outputs": [
    {
     "data": {
      "text/plain": [
       "tuple"
      ]
     },
     "execution_count": 3,
     "metadata": {},
     "output_type": "execute_result"
    }
   ],
   "source": [
    "type(h)"
   ]
  },
  {
   "cell_type": "code",
   "execution_count": 5,
   "id": "08ae0ad9-0404-4071-86b5-b6fb6d73b8b4",
   "metadata": {},
   "outputs": [
    {
     "data": {
      "text/plain": [
       "1"
      ]
     },
     "execution_count": 5,
     "metadata": {},
     "output_type": "execute_result"
    }
   ],
   "source": [
    "h.count(30)"
   ]
  },
  {
   "cell_type": "code",
   "execution_count": 11,
   "id": "0d58f0cf-f091-4d5f-ade0-d089b2d8f367",
   "metadata": {},
   "outputs": [
    {
     "data": {
      "text/plain": [
       "3"
      ]
     },
     "execution_count": 11,
     "metadata": {},
     "output_type": "execute_result"
    }
   ],
   "source": [
    "h.index(16)"
   ]
  },
  {
   "cell_type": "code",
   "execution_count": 9,
   "id": "7f1ce69d-a08c-4c2c-85c3-0573a3fd7e91",
   "metadata": {},
   "outputs": [
    {
     "data": {
      "text/plain": [
       "90"
      ]
     },
     "execution_count": 9,
     "metadata": {},
     "output_type": "execute_result"
    }
   ],
   "source": [
    "h[0]"
   ]
  },
  {
   "cell_type": "code",
   "execution_count": 13,
   "id": "3bf5ae1b-98b0-49ad-ba14-ae9d402fbee5",
   "metadata": {},
   "outputs": [
    {
     "data": {
      "text/plain": [
       "{30, 65, 70, 80}"
      ]
     },
     "execution_count": 13,
     "metadata": {},
     "output_type": "execute_result"
    }
   ],
   "source": [
    "s={80,70,30,80,65}\n",
    "s"
   ]
  },
  {
   "cell_type": "code",
   "execution_count": 15,
   "id": "f146aee2-991b-407f-bc10-0c0c25ab015d",
   "metadata": {},
   "outputs": [
    {
     "data": {
      "text/plain": [
       "set"
      ]
     },
     "execution_count": 15,
     "metadata": {},
     "output_type": "execute_result"
    }
   ],
   "source": [
    "type(s)"
   ]
  },
  {
   "cell_type": "code",
   "execution_count": 19,
   "id": "9e1b8213-71cf-4a79-9d01-01c41eb578df",
   "metadata": {},
   "outputs": [
    {
     "data": {
      "text/plain": [
       "{30, 65, 70, 80}"
      ]
     },
     "execution_count": 19,
     "metadata": {},
     "output_type": "execute_result"
    }
   ],
   "source": [
    "s"
   ]
  },
  {
   "cell_type": "code",
   "execution_count": 68,
   "id": "db0a7bbf-d005-463a-834c-af7f1de1ccbf",
   "metadata": {},
   "outputs": [],
   "source": [
    "s.add(16)"
   ]
  },
  {
   "cell_type": "code",
   "execution_count": 23,
   "id": "33dc2f4d-4ddd-4b45-8e2d-ceabb84295de",
   "metadata": {},
   "outputs": [
    {
     "data": {
      "text/plain": [
       "{16, 30, 65, 70, 80}"
      ]
     },
     "execution_count": 23,
     "metadata": {},
     "output_type": "execute_result"
    }
   ],
   "source": [
    "s"
   ]
  },
  {
   "cell_type": "code",
   "execution_count": 25,
   "id": "12837b9a-28ca-400f-84b0-6a8897d76e69",
   "metadata": {},
   "outputs": [],
   "source": [
    "s.remove(70)"
   ]
  },
  {
   "cell_type": "code",
   "execution_count": 27,
   "id": "4c36c366-3a91-4280-9c26-1fbcd72a2293",
   "metadata": {},
   "outputs": [
    {
     "data": {
      "text/plain": [
       "{16, 30, 65, 80}"
      ]
     },
     "execution_count": 27,
     "metadata": {},
     "output_type": "execute_result"
    }
   ],
   "source": [
    "s"
   ]
  },
  {
   "cell_type": "code",
   "execution_count": 39,
   "id": "fcb07f8f-702a-4236-b4d4-afce254acb8a",
   "metadata": {},
   "outputs": [
    {
     "data": {
      "text/plain": [
       "{20, 30, 40, 50, 60, 80}"
      ]
     },
     "execution_count": 39,
     "metadata": {},
     "output_type": "execute_result"
    }
   ],
   "source": [
    "y={20,40,30,60,50,80}\n",
    "y"
   ]
  },
  {
   "cell_type": "code",
   "execution_count": 41,
   "id": "2ca9ea47-de65-4103-8dbf-b60da9e360f1",
   "metadata": {},
   "outputs": [
    {
     "data": {
      "text/plain": [
       "{30, 80}"
      ]
     },
     "execution_count": 41,
     "metadata": {},
     "output_type": "execute_result"
    }
   ],
   "source": [
    "s.intersection(y)"
   ]
  },
  {
   "cell_type": "markdown",
   "id": "e653530b-714b-4832-896f-1ebbeaff9cb8",
   "metadata": {},
   "source": [
    "s.union(y)"
   ]
  },
  {
   "cell_type": "code",
   "execution_count": 46,
   "id": "fedaf024-2f3d-4b2d-bc84-746e9c83b560",
   "metadata": {},
   "outputs": [
    {
     "data": {
      "text/plain": [
       "{16, 20, 30, 40, 50, 60, 65, 80}"
      ]
     },
     "execution_count": 46,
     "metadata": {},
     "output_type": "execute_result"
    }
   ],
   "source": [
    "s.union(y)"
   ]
  },
  {
   "cell_type": "code",
   "execution_count": 48,
   "id": "6d49ca88-763b-42bd-9869-93b3cabeebcb",
   "metadata": {},
   "outputs": [
    {
     "data": {
      "text/plain": [
       "{16, 30, 65, 80}"
      ]
     },
     "execution_count": 48,
     "metadata": {},
     "output_type": "execute_result"
    }
   ],
   "source": [
    "s"
   ]
  },
  {
   "cell_type": "code",
   "execution_count": 50,
   "id": "c61aa0ef-65dd-44f0-b984-481f2ab7f91d",
   "metadata": {},
   "outputs": [
    {
     "data": {
      "text/plain": [
       "{20, 30, 40, 50, 60, 80}"
      ]
     },
     "execution_count": 50,
     "metadata": {},
     "output_type": "execute_result"
    }
   ],
   "source": [
    "y"
   ]
  },
  {
   "cell_type": "code",
   "execution_count": 52,
   "id": "9e1e3248-1b9b-49f2-96b5-47a9d69b67a3",
   "metadata": {},
   "outputs": [
    {
     "data": {
      "text/plain": [
       "{16, 65}"
      ]
     },
     "execution_count": 52,
     "metadata": {},
     "output_type": "execute_result"
    }
   ],
   "source": [
    "s.difference(y)"
   ]
  },
  {
   "cell_type": "code",
   "execution_count": 56,
   "id": "fe1f42c1-7610-48c1-a452-f5258a020669",
   "metadata": {},
   "outputs": [
    {
     "data": {
      "text/plain": [
       "{20, 40, 50, 60}"
      ]
     },
     "execution_count": 56,
     "metadata": {},
     "output_type": "execute_result"
    }
   ],
   "source": [
    "y.difference(s)"
   ]
  },
  {
   "cell_type": "code",
   "execution_count": 58,
   "id": "cbbaa868-7b4a-40ec-bb26-c16e695aca07",
   "metadata": {},
   "outputs": [
    {
     "data": {
      "text/plain": [
       "{30, 80}"
      ]
     },
     "execution_count": 58,
     "metadata": {},
     "output_type": "execute_result"
    }
   ],
   "source": [
    "s.intersection(y)"
   ]
  },
  {
   "cell_type": "code",
   "execution_count": 60,
   "id": "6e74907d-5efd-49a2-bd3d-2d02fbdfacaa",
   "metadata": {},
   "outputs": [
    {
     "data": {
      "text/plain": [
       "{16, 20, 40, 50, 60, 65}"
      ]
     },
     "execution_count": 60,
     "metadata": {},
     "output_type": "execute_result"
    }
   ],
   "source": [
    "s.symmetric_difference(y)"
   ]
  },
  {
   "cell_type": "code",
   "execution_count": 62,
   "id": "13b30b02-9289-4f18-988c-c711b2421ec7",
   "metadata": {},
   "outputs": [
    {
     "data": {
      "text/plain": [
       "{16, 30, 65, 80}"
      ]
     },
     "execution_count": 62,
     "metadata": {},
     "output_type": "execute_result"
    }
   ],
   "source": [
    "s"
   ]
  },
  {
   "cell_type": "code",
   "execution_count": 70,
   "id": "765ec6b4-3265-4045-a050-55fa45eeb6de",
   "metadata": {},
   "outputs": [
    {
     "data": {
      "text/plain": [
       "(65, 80, 16, 30)"
      ]
     },
     "execution_count": 70,
     "metadata": {},
     "output_type": "execute_result"
    }
   ],
   "source": [
    "tuple(s)"
   ]
  },
  {
   "cell_type": "code",
   "execution_count": 72,
   "id": "deb33f41-34fe-4437-8f3a-7c1284b0b740",
   "metadata": {},
   "outputs": [
    {
     "data": {
      "text/plain": [
       "[65, 80, 16, 30]"
      ]
     },
     "execution_count": 72,
     "metadata": {},
     "output_type": "execute_result"
    }
   ],
   "source": [
    "list(s)"
   ]
  },
  {
   "cell_type": "code",
   "execution_count": null,
   "id": "9d1ba2e2-d473-4f1a-aa98-9fae5f390942",
   "metadata": {},
   "outputs": [],
   "source": []
  }
 ],
 "metadata": {
  "kernelspec": {
   "display_name": "Python [conda env:base] *",
   "language": "python",
   "name": "conda-base-py"
  },
  "language_info": {
   "codemirror_mode": {
    "name": "ipython",
    "version": 3
   },
   "file_extension": ".py",
   "mimetype": "text/x-python",
   "name": "python",
   "nbconvert_exporter": "python",
   "pygments_lexer": "ipython3",
   "version": "3.12.7"
  }
 },
 "nbformat": 4,
 "nbformat_minor": 5
}
