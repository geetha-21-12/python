{
 "cells": [
  {
   "cell_type": "code",
   "execution_count": 7,
   "id": "b1fbecea-b442-4d28-9982-1af0b9bf2a5c",
   "metadata": {},
   "outputs": [
    {
     "data": {
      "text/plain": [
       "[203, 'hyderabad', 45, True, 'delhi', 21, 16, 37]"
      ]
     },
     "execution_count": 7,
     "metadata": {},
     "output_type": "execute_result"
    }
   ],
   "source": [
    "m=[203,'hyderabad',45,True,'delhi',21,16,37]\n",
    "m"
   ]
  },
  {
   "cell_type": "code",
   "execution_count": 10,
   "id": "3d98a6ac-f98c-4b2a-9124-f99ad79245ad",
   "metadata": {},
   "outputs": [
    {
     "data": {
      "text/plain": [
       "203"
      ]
     },
     "execution_count": 10,
     "metadata": {},
     "output_type": "execute_result"
    }
   ],
   "source": [
    "m[0]"
   ]
  },
  {
   "cell_type": "code",
   "execution_count": 12,
   "id": "24e710c4-dd57-45b3-8682-646dafff265a",
   "metadata": {},
   "outputs": [
    {
     "data": {
      "text/plain": [
       "['hyderabad', 45, True]"
      ]
     },
     "execution_count": 12,
     "metadata": {},
     "output_type": "execute_result"
    }
   ],
   "source": [
    "m[1:4]"
   ]
  },
  {
   "cell_type": "code",
   "execution_count": 14,
   "id": "aa6b4574-752b-4d0f-a72d-68bf6016b6d0",
   "metadata": {},
   "outputs": [
    {
     "data": {
      "text/plain": [
       "[]"
      ]
     },
     "execution_count": 14,
     "metadata": {},
     "output_type": "execute_result"
    }
   ],
   "source": [
    "m[-1:4]"
   ]
  },
  {
   "cell_type": "code",
   "execution_count": 16,
   "id": "4c979b4f-a35b-4a56-b4f3-794fa43aa573",
   "metadata": {},
   "outputs": [
    {
     "data": {
      "text/plain": [
       "[45, True, 'delhi', 21, 16]"
      ]
     },
     "execution_count": 16,
     "metadata": {},
     "output_type": "execute_result"
    }
   ],
   "source": [
    "m[2:7]"
   ]
  },
  {
   "cell_type": "code",
   "execution_count": 18,
   "id": "c705df3c-f344-480e-9662-bd4138bc1956",
   "metadata": {},
   "outputs": [
    {
     "data": {
      "text/plain": [
       "[203, 'hyderabad', 45, True, 'delhi', 21, 16, 37]"
      ]
     },
     "execution_count": 18,
     "metadata": {},
     "output_type": "execute_result"
    }
   ],
   "source": [
    "m"
   ]
  },
  {
   "cell_type": "code",
   "execution_count": 20,
   "id": "20910ddc-a977-4a2a-9d7c-0323b5d5197a",
   "metadata": {},
   "outputs": [
    {
     "data": {
      "text/plain": [
       "[203, 'hyderabad', 45, True, 'delhi', 21]"
      ]
     },
     "execution_count": 20,
     "metadata": {},
     "output_type": "execute_result"
    }
   ],
   "source": [
    "m[0:6]"
   ]
  },
  {
   "cell_type": "code",
   "execution_count": 22,
   "id": "474cd372-33d9-4225-8adc-f5fe05f115b6",
   "metadata": {},
   "outputs": [
    {
     "data": {
      "text/plain": [
       "[True, 'delhi', 21, 16, 37]"
      ]
     },
     "execution_count": 22,
     "metadata": {},
     "output_type": "execute_result"
    }
   ],
   "source": [
    "m[3:8:1]"
   ]
  },
  {
   "cell_type": "code",
   "execution_count": 24,
   "id": "af11dd54-0432-497b-9b73-d7834fe20538",
   "metadata": {},
   "outputs": [],
   "source": [
    "m.insert(3,21)"
   ]
  },
  {
   "cell_type": "code",
   "execution_count": 26,
   "id": "b2148f08-8724-46ca-a33c-0b57d9e9d927",
   "metadata": {},
   "outputs": [
    {
     "data": {
      "text/plain": [
       "[203, 'hyderabad', 45, 21, True, 'delhi', 21, 16, 37]"
      ]
     },
     "execution_count": 26,
     "metadata": {},
     "output_type": "execute_result"
    }
   ],
   "source": [
    "m"
   ]
  },
  {
   "cell_type": "code",
   "execution_count": 28,
   "id": "535f7165-c78f-4206-a32f-d982dfc59b2e",
   "metadata": {},
   "outputs": [],
   "source": [
    "m.append('India')"
   ]
  },
  {
   "cell_type": "code",
   "execution_count": 30,
   "id": "12cf525c-0af0-4b29-9e59-a18ce9c13eba",
   "metadata": {},
   "outputs": [
    {
     "data": {
      "text/plain": [
       "[203, 'hyderabad', 45, 21, True, 'delhi', 21, 16, 37, 'India']"
      ]
     },
     "execution_count": 30,
     "metadata": {},
     "output_type": "execute_result"
    }
   ],
   "source": [
    "m"
   ]
  },
  {
   "cell_type": "code",
   "execution_count": 32,
   "id": "6131e06e-1d4e-4fbd-8ade-5259e15ebeec",
   "metadata": {},
   "outputs": [
    {
     "data": {
      "text/plain": [
       "45"
      ]
     },
     "execution_count": 32,
     "metadata": {},
     "output_type": "execute_result"
    }
   ],
   "source": [
    "m.pop(2)"
   ]
  },
  {
   "cell_type": "code",
   "execution_count": 34,
   "id": "bebee1e8-921b-4012-a1fe-da7f30ec5f34",
   "metadata": {},
   "outputs": [
    {
     "data": {
      "text/plain": [
       "[203, 'hyderabad', 21, True, 'delhi', 21, 16, 37, 'India']"
      ]
     },
     "execution_count": 34,
     "metadata": {},
     "output_type": "execute_result"
    }
   ],
   "source": [
    "m"
   ]
  },
  {
   "cell_type": "code",
   "execution_count": 36,
   "id": "9f547ee0-0120-49ab-bf50-510d7c5cd945",
   "metadata": {},
   "outputs": [
    {
     "name": "stdout",
     "output_type": "stream",
     "text": [
      "[203, 'hyderabad', 21, True, 'delhi', 21, 16, 37, 'India']\n"
     ]
    }
   ],
   "source": [
    "print(m)"
   ]
  },
  {
   "cell_type": "code",
   "execution_count": null,
   "id": "eaf6d2da-f154-49b8-9f60-2f3f27028be5",
   "metadata": {},
   "outputs": [],
   "source": []
  }
 ],
 "metadata": {
  "kernelspec": {
   "display_name": "Python [conda env:base] *",
   "language": "python",
   "name": "conda-base-py"
  },
  "language_info": {
   "codemirror_mode": {
    "name": "ipython",
    "version": 3
   },
   "file_extension": ".py",
   "mimetype": "text/x-python",
   "name": "python",
   "nbconvert_exporter": "python",
   "pygments_lexer": "ipython3",
   "version": "3.12.7"
  }
 },
 "nbformat": 4,
 "nbformat_minor": 5
}
